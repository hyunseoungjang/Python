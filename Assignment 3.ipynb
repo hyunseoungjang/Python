{
 "metadata": {
  "name": "",
  "signature": "sha256:37ecb244895a944e49d0be4a5b105fbceb16b879d1746a843d94d6189968cd44"
 },
 "nbformat": 3,
 "nbformat_minor": 0,
 "worksheets": [
  {
   "cells": [
    {
     "cell_type": "markdown",
     "metadata": {},
     "source": [
      "- 2011136103 \uc7a5\ud604\uc2b9"
     ]
    },
    {
     "cell_type": "markdown",
     "metadata": {},
     "source": [
      "- L=[1, 2, 3, 4, 5]\uc77c \ub54c \ub2e4\uc74c \uac01 \ubb38\uc7a5\uc744 \uc218\ud589\ud55c \ud6c4\uc758 \uacb0\uacfc\ub97c \ubcf4\uace0 \ub0a9\ub4dd\ud560 \ub9cc\ud55c \uc774\uc720\ub97c \uc124\uba85\ud558\uc2dc\uc624. "
     ]
    },
    {
     "cell_type": "code",
     "collapsed": false,
     "input": [
      "#L[a:b] = [], () \uc0ac\uc804 \ub610\ub294 \ud29c\ud50c\ub85c \uce58\ud658\ud560 \uc218 \uc788\ub2e4.\n",
      "\n",
      "L=[1,2,3,4,5]\n",
      "L[1:3] = [100]\n",
      "print \"1)\", L\n",
      "# [2,3]\uc744 [100] \uc73c\ub85c \ubcc0\uacbd\n",
      "\n",
      "L=[1,2,3,4,5]\n",
      "L[1:3] = [(100)]\n",
      "print \"2)\", L\n",
      "# [2,3]\uc744 [100] \uc73c\ub85c \ubcc0\uacbd, (100)\uc740 \ud29c\ud50c\uc774 \uc544\ub2c8\ub2e4.\n",
      "\n",
      "#L=[1,2,3,4,5]\n",
      "#L[1:3] = 100\n",
      "#print \"3)\", L\n",
      "# [2,3]\uc640 100\uc740 \uc790\ub8cc\ud615\uc774 \ub2e4\ub974\ub2e4.\n",
      "\n",
      "#L=[1,2,3,4,5]\n",
      "#L[1:3] = (100)\n",
      "#print \"4)\", L \n",
      "# (100) = 100     (100,)\uc740 \ud29c\ud50c\n",
      "\n",
      "L=[1,2,3,4,5]\n",
      "L[1:3] = (100, 101, 102)\n",
      "print \"5)\", L\n",
      "# \ud29c\ud50c\uc774 \uac00\uc9c0\uace0 \uc788\ub294 \uc6d0\uc18c\ub97c L[1:3]\uc5d0 \ub123\ub294\ub2e4.\n",
      "\n",
      "L=[1,2,3,4,5]\n",
      "L[1:3] = [100, 101, 102]\n",
      "print \"6)\", L\n",
      "# \uc0ac\uc804\uc774 \uac00\uc9c0\uace0 \uc788\ub294 \uc6d0\uc18c\ub97c L[1:3]\uc5d0 \ub123\ub294\ub2e4.\n",
      "\n",
      "L=[1,2,3,4,5]\n",
      "L[1:3] = [(100, 101, 102)]\n",
      "print \"7)\", L\n",
      "# \uc0ac\uc804 \uc548 \uc6d0\uc18c\ub85c \ud29c\ud50c\uc744 \uac00\uc9c8 \uc218 \uc788\uc74c \n",
      "\n",
      "L=[1,2,3,4,5]\n",
      "L[1:3] = [[100, 101, 102]]\n",
      "print \"8)\", L\n",
      "# \uc0ac\uc804 \uc548 \uc6d0\uc18c\ub85c \uc0ac\uc804\uc744 \uac00\uc9c8 \uc218 \uc788\uc74c \n"
     ],
     "language": "python",
     "metadata": {},
     "outputs": []
    },
    {
     "cell_type": "markdown",
     "metadata": {},
     "source": [
      "- \ubb38\uc790\uc5f4 S = 'Hello World and Python'\uc5d0 \ub300\ud574 \ub2e4\uc74c \uc694\uad6c\uc0ac\ud56d\uc5d0 \ub300\ud55c Python \ucf54\ub4dc\ub97c \uc81c\uc2dc\ud558\uc2dc\uc624.\n",
      " - 1) \ub2e8\uc5b4\uc758 \uc21c\uc11c\uac00 \uc5ed\uc21c\uc73c\ub85c \ub418\uc5b4\uc9c4 \ubb38\uc790\uc5f4 ('Python and World Hello')\uc744 \ub9cc\uace0 \ub4e4\n",
      " - 2) 1)\uc758 \uacb0\uacfc \ubb38\uc790\uc5f4\uc5d0 \ub300\ud574 \uba54\uc18c\ub4dc split\uacfc join\uc744 \uc774\uc6a9\ud558\uc5ec \uacf5\ubc31\uc744 \ubaa8\ub450 \uc5c6\uc5d4 \ubb38\uc790\uc5f4 'PythonandWorldHello'\uc744 \ub9cc\ub4dc\uc2dc\uc624.\n"
     ]
    },
    {
     "cell_type": "code",
     "collapsed": false,
     "input": [
      "S = \"Hello World and Python\"\n",
      "S = S.split()\n",
      "S.reverse()\n",
      "S = ''.join(S)\n",
      "print S\n",
      "# split()\uc73c\ub85c \ubb38\uc790\uc5f4\uc744 \uacf5\ubc31\uc73c\ub85c \ubd84\ub9ac\ud55c \ub4a4 reverse()\ub85c \uc5ed\uc21c\uc73c\ub85c \uc7ac\ubc30\uc5f4\n",
      "# ''.join(S)\ub85c \uac01\uac01\uc758 \ubb38\uc790\uc5f4\uc744 \uc5f0\uacb0"
     ],
     "language": "python",
     "metadata": {},
     "outputs": [
      {
       "output_type": "stream",
       "stream": "stdout",
       "text": [
        "PythonandWorldHello\n"
       ]
      }
     ],
     "prompt_number": 6
    },
    {
     "cell_type": "markdown",
     "metadata": {},
     "source": [
      "- \ub2e4\uc74c \ucf54\ub4dc\ub97c \ubcf4\uace0 \ubb3c\uc74c\uc5d0 \ub2f5\ud558\uc2dc\uc624.\n",
      "a = [1, 2, 3]\n",
      "b = a * 3\n",
      "c = [a] * 3\n",
      "print b\n",
      "print c\n",
      "\n",
      " - 1) \uc704 \ucf54\ub4dc\ub97c \uc218\ud589\ud55c \uc774\ud6c4 \ub2e4\uc74c \ucf54\ub4dc\ub97c \uc218\ud589\ud55c \ud6c4 b\uc640 c\uc758 \ub0b4\uc6a9\uc744 \ud655\uc778\ud558\uc2dc\uc624.a[0]=0\n",
      "\n",
      " - 2) b\uc640 c \uac1d\uccb4\uc758 \ucc28\uc774\ub294 \ubb34\uc5c7\uc778\uac00?\n"
     ]
    },
    {
     "cell_type": "code",
     "collapsed": false,
     "input": [
      "a = [1, 2, 3]\n",
      "b = a * 3\n",
      "c = [a] * 3\n",
      "print b\n",
      "print c\n",
      "a[0] = 0\n",
      "print b\n",
      "print c\n",
      "\n",
      "# b\ub294 a[]\uc758 \uac12\uc744 \ubcf5\uc0ac\ud574 \uc800\uc7a5\ud55c\ub2e4.\n",
      "# c\ub294 a[]\uc758 \uc8fc\uc18c\ub97c \ubcf5\uc0ac\ud574 \uc800\uc7a5\ud55c\ub2e4."
     ],
     "language": "python",
     "metadata": {},
     "outputs": [
      {
       "output_type": "stream",
       "stream": "stdout",
       "text": [
        "[1, 2, 3, 1, 2, 3, 1, 2, 3]\n",
        "[[1, 2, 3], [1, 2, 3], [1, 2, 3]]\n",
        "[1, 2, 3, 1, 2, 3, 1, 2, 3]\n",
        "[[0, 2, 3], [0, 2, 3], [0, 2, 3]]\n"
       ]
      }
     ],
     "prompt_number": 7
    },
    {
     "cell_type": "markdown",
     "metadata": {},
     "source": [
      "- \ub2e4\uc74c \ubb38\uc790\uc5f4\uc744 ':'\uc744 \uae30\uc900\uc73c\ub85c \ubd84\ub9ac\ud558\uc5ec \ub9ac\uc2a4\ud2b8\ub85c \ub9cc\ub4e4\uace0 \uac01 \ubb38\uc790\uc5f4\uc758 \uc88c\uc6b0 \uacf5\ubc31\uc744 \uc81c\uac70\ud558\uc2dc\uc624 (\uc989, \ubb38\uc790\uc5f4 S\uc5d0\uc11c l\uc744 \ub9cc\ub4e4\uc5b4\ub77c) s = '  first star   :   second star   :    third star  '\n",
      "l = ['first star', 'second star', 'third star']\n",
      "\n",
      " - 1) for ~ in \ubb38\uc744 \uc774\uc6a9\ud55c \ucf54\ub4dc\ub97c \uc791\uc131\ud558\uc2dc\uc624. \n",
      " - 2) \ub9ac\uc2a4\ud2b8 \ub0b4\ud3ec(list comprehension)\ub97c \uc774\uc6a9\ud55c \ucf54\ub4dc\ub97c \uc791\uc131\ud558\uc2dc\uc624.\n"
     ]
    },
    {
     "cell_type": "code",
     "collapsed": false,
     "input": [
      "s = '  first star   :   second star   :    third star  '\n",
      "s = s.split(':')\n",
      "l = [s[x].strip() for x in range(len(s))]\n",
      "print l"
     ],
     "language": "python",
     "metadata": {},
     "outputs": [
      {
       "output_type": "stream",
       "stream": "stdout",
       "text": [
        "['first star', 'second star', 'third star']\n"
       ]
      }
     ],
     "prompt_number": 8
    },
    {
     "cell_type": "markdown",
     "metadata": {},
     "source": [
      "- \ub2e4\uc74c\uacfc \uac19\uc774 0\ubcf4\ub2e4 \ud070 \uc815\uc218 \ub9ac\uc2a4\ud2b8 \ubcc0\uc218 list\ub97c \uc778\uc790\ub85c \ubc1b\ub294 \ud568\uc218 addall(list)\uc640 addallodd(list)\ub97c for ~ in \ub9ac\ud130\ub110\uacfc \ub9ac\uc2a4\ud2b8 \ub0b4\ud3ec \ubc29\uc2dd\uc73c\ub85c \uac01\uac01 \uc81c\uc2dc\ud558\uc2dc\uc624.\n",
      "\n",
      " - 1) addall(list) \ud568\uc218 (\ub9ac\uc2a4\ud2b8 \ub0b4\uc758 \ubaa8\ub4e0 \uc815\uc218\ub97c \ub354\ud558\ub294 \ud568\uc218\ub85c\uc11c \ud574\ub2f5\uc73c\ub85c\ub294 for ~ in \ub9ac\ud130\ub7f4\uacfc \ub9ac\uc2a4\ud2b8 \ub0b4\ud3ec \ubc29\uc2dd\uc73c\ub85c \uac01\uac01 \uc81c\uc2dc\ud558\uc2dc\uc624.)\n",
      " \n",
      " \u25e6>>> addall([1])\n",
      "1\n",
      "\n",
      " \u25e6>>> addall([1, 2, 3, 4, 5, 6, 7, 8, 9])\n",
      "45\n",
      "\n",
      "\n",
      " - 2) addallodd(list) \ud568\uc218 (\ub9ac\uc2a4\ud2b8\ub0b4\uc758 \ubaa8\ub4e0 \ud640\uc218\ub97c \ub354\ud558\ub294 \ud568\uc218\ub85c\uc11c \ud574\ub2f5\uc73c\ub85c\ub294 for ~ in \ub9ac\ud130\ub7f4\uacfc \ub9ac\uc2a4\ud2b8 \ub0b4\ud3ec \ubc29\uc2dd\uc73c\ub85c \uac01\uac01 \uc81c\uc2dc\ud558\uc2dc\uc624.)\n",
      " \n",
      " \u25e6>>> addallodd([1])\n",
      "1\n",
      "\n",
      " \u25e6>>> addallodd([1, 2, 3, 4, 5, 6, 7, 8, 9])\n",
      "25\n",
      "\n",
      "\n",
      " [\ucc38\uace0 (2014\ub144 10\uc6d4 13\uc77c)]: \ub9ac\uc2a4\ud2b8 \ub0b4\ud3ec \ubc29\uc2dd\uc73c\ub85c addall() \ubc0f addallodd()\ud568\uc218\ub97c \ub9cc\ub4e4 \ub54c\uc5d4 \ub9ac\uc2a4\ud2b8 \ub0b4\ud3ec\uc5d0 \uc758\ud574 \uc0dd\uc131\ub41c \ub9ac\uc2a4\ud2b8 \uacb0\uacfc\uc5d0 \ub300\ud574 \ub0b4\uc7a5 \ud568\uc218\ub97c \uc0ac\uc6a9\ud558\ub294 \ubc29\uc2dd\uc744 \uace0\ub824\ud574\ubcf4\uc2dc\uc624 (\uc8fc\uc758: \ub9ac\uc2a4\ud2b8 \ub0b4\ud3ec \ubc29\uc2dd\uc758 addall() \ubc0f addallodd() \ud568\uc218\uc758 \ubab8\uccb4\ub294 \ub2e8 1\uc904\ub85c \uc791\uc131\ub418\uc5b4\uc57c \ud55c\ub2e4.) \n"
     ]
    },
    {
     "cell_type": "code",
     "collapsed": false,
     "input": [
      "def addall(list) :\n",
      "    result = 0 \n",
      "    for k in list :\n",
      "        result += k\n",
      "    return result\n",
      "        \n",
      "print addall([1])\n",
      "print addall([1, 2, 3, 4, 5, 6, 7, 8, 9])    \n",
      "\n",
      "#addall for\ubb38\n",
      "\n",
      "\n",
      "def addall(list) :    \n",
      "   return sum([k for k in list])\n",
      "   \n",
      "print addall([1])\n",
      "print addall([1, 2, 3, 4, 5, 6, 7, 8, 9])\n",
      "\n",
      "#addall \ub9ac\uc2a4\ud2b8\ub0b4\ud3ec\n",
      "   \n",
      "\n",
      "def addallodd(list) :\n",
      "    result = 0 \n",
      "    for k in list:\n",
      "        if(k%2) : result += k\n",
      "    return result\n",
      "    \n",
      "print addallodd([1])\n",
      "print addallodd([1, 2, 3, 4, 5, 6, 7, 8, 9])\n",
      "\n",
      "#addallodd for\ubb38\n",
      "\n",
      "def addallodd(list) :\n",
      "    return sum([k for k in list if k % 2])\n",
      "\n",
      "print addallodd([1])\n",
      "print addallodd([1, 2, 3, 4, 5, 6, 7, 8, 9])\n",
      "\n",
      "#addallodd \ub9ac\uc2a4\ud2b8 \ub0b4\ud3ec, \uc870\uac74\ubb38\uc744 \ub123\uc744 \uc218\ub3c4 \uc788\ub2e4."
     ],
     "language": "python",
     "metadata": {},
     "outputs": [
      {
       "output_type": "stream",
       "stream": "stdout",
       "text": [
        "1\n",
        "45\n",
        "1\n",
        "45\n",
        "1\n",
        "25\n",
        "1\n",
        "25\n"
       ]
      }
     ],
     "prompt_number": 9
    },
    {
     "cell_type": "markdown",
     "metadata": {},
     "source": [
      "- \ub2e4\uc74c \ucf54\ub4dc\ub97c \ubcf4\uace0 \ubb3c\uc74c\uc5d0 \ub2f5\ud558\uc2dc\uc624.\n",
      "L1 = [1, 2, 3]\n",
      "L2 = [4, 5, 6]\n",
      "d = {'low':L1, 'high':L2}\n",
      "e = d\n",
      "f = d.copy()\n",
      "print d\n",
      "print e\n",
      "print f\n",
      "print\n",
      "d['low'] = [10, 20, 30]\n",
      "d['high'][1] = 500\n",
      "print d\n",
      "print e\n",
      "print f\n",
      "\n",
      " - 1) \uc704 \ucf54\ub4dc\uc758 \uc218\ud589 \uacb0\uacfc d\uc640 e\ub294 \ud56d\uc0c1 \uac19\uc740 \uacb0\uacfc\ub97c \ucd9c\ub825\ud55c\ub2e4. \uadf8 \uc774\uc720\ub294 \ubb34\uc5c7\uc778\uac00?\n",
      " - 2) \uc704 \ucf54\ub4dc\uc758 \uc218\ud589 \uacb0\uacfc \ub9c8\uc9c0\ub9c9 f\uc758 \ub0b4\uc6a9\uc740 \ub2e4\uc74c\uacfc \uac19\ub2e4. \uc774 \ub54c 'high' \ud0a4\uc758 \uac12 \ub0b4\uc6a9 \uc911 500\uc774 \ucd9c\ub825\ub41c \uc774\uc720\uc640 'low' \ud0a4\uc758 \uac12 \ub0b4\uc6a9 \uc911 [1, 2, 3]\uc774 \ucd9c\ub825\ub41c \uc774\uc720\ub97c \uc124\uba85\ud558\uc2dc\uc624 ([hint]: shallow copy \uad00\uc810\uc5d0\uc11c \uc124\uba85\ud558\uc2dc\uc624.){'high': [4, 500, 6], 'low': [1, 2, 3]}\n",
      "\n"
     ]
    },
    {
     "cell_type": "code",
     "collapsed": false,
     "input": [
      "L1 = [1, 2, 3]\n",
      "L2 = [4, 5, 6]\n",
      "d = {'low':L1, 'high':L2}\n",
      "e = d\n",
      "f = d.copy()\n",
      "print d\n",
      "print e\n",
      "print f\n",
      "d['low'] = [10, 20, 30]\n",
      "d['high'][1] = 500\n",
      "print d\n",
      "print e\n",
      "print f\n",
      "\n",
      "# e = d \ub294 d\uc758 \uc8fc\uc18c\uac12\uc744 e\uc5d0 \uc800\uc7a5\ud558\uace0, f = d.copy()\ub294 \ub300\uc0c1 \uac1d\uccb4\ub97c \ubcc4\ub3c4\ub85c \uc0dd\uc131\ud558\ub418 \uac1d\uccb4\uac00 \uc9c0\ub2cc \ub0b4\uc6a9\uc740 \ub808\ud37c\ub7f0\uc2a4\ub97c \ubcf5\uc0ac\ud55c\ub2e4.\n",
      "\n",
      "# d['high'][1] = 500 \uc5d0\uc11c d \uc640 e\ub294 \uc8fc\uc18c\uac00 \uac19\uace0 f\ub294 [1,2,3]\uc758 \ub808\ud37c\ub7f0\uc2a4\ub97c \uac00\uc9c0\uace0 \uc788\ub294\ub2e4.\n",
      "# d['low'] = [10, 20, 30]\ub294 low\uc548\uc5d0 \uac12\uc744 \ubc14\uafb8\ub294 \uac83\uc774 \uc544\ub2cc \uac1d\uccb4\uac00 \ub2ec\ub77c\uc9c0\ub294 \uac83\uc774\ubbc0\ub85c f\ub294 \ubc14\ub00c\uc9c0 \uc54a\ub294\ub2e4.\n"
     ],
     "language": "python",
     "metadata": {},
     "outputs": [
      {
       "output_type": "stream",
       "stream": "stdout",
       "text": [
        "{'high': [4, 5, 6], 'low': [1, 2, 3]}\n",
        "{'high': [4, 5, 6], 'low': [1, 2, 3]}\n",
        "{'high': [4, 5, 6], 'low': [1, 2, 3]}\n",
        "{'high': [4, 500, 6], 'low': [10, 20, 30]}\n",
        "{'high': [4, 500, 6], 'low': [10, 20, 30]}\n",
        "{'high': [4, 500, 6], 'low': [1, 2, 3]}\n"
       ]
      }
     ],
     "prompt_number": 10
    },
    {
     "cell_type": "markdown",
     "metadata": {},
     "source": [
      "- \uc0ac\uc804 d = {'one':1, 'two':2, 'three':3, 'four':4, 'five':5}\uac00 \uc8fc\uc5b4\uc84c\uc744 \ub54c \ub2e4\uc74c \uc694\uad6c\uc0ac\ud56d\uc5d0 \ub9de\ub294 \ucf54\ub4dc\ub97c \uc81c\uc2dc\ud558\uc2dc\uc624 \u25fe[\ucc38\uace0]: d.keys(), d.values()\ub97c \ud1b5\ud574 \ub9ac\uc2a4\ud2b8\ub97c \uc5bb\uc5b4\ub0b8 \ud6c4 \ub9ac\uc2a4\ud2b8\uac00 \uc9c0\ub2c8\uace0 \uc788\ub294 sort(cmp=None, key=None, reverse=False)\ud568\uc218\ub97c \ud65c\uc6a9\ud558\uc2dc\uc624.\n",
      " - 1) \ud0a4\uc758 \uc54c\ud30c\ubcb3 \uc624\ub984\ucc28\uc21c \uc21c\uc11c\ub300\ub85c \ud29c\ud50c (\ud0a4, \uac12)\uc744 \ucc28\ub840\ub300\ub85c \ucd9c\ub825\ud558\uc2dc\uc624.\n",
      " - 2) \ud0a4\uc758 \uc54c\ud30c\ubcb3 \ub0b4\ub9bc\ucc28\uc21c \uc21c\uc11c\ub300\ub85c \ud29c\ud50c (\ud0a4, \uac12)\uc744 \ucc28\ub840\ub300\ub85c \ucd9c\ub825\ud558\uc2dc\uc624.\n",
      " - 3) \uac12\uc758 \uc624\ub984\ucc28\uc21c \uc21c\uc11c\ub300\ub85c \ud29c\ud50c (\ud0a4, \uac12)\uc744 \ucc28\ub840\ub300\ub85c \ucd9c\ub825\ud558\uc2dc\uc624. \n",
      " - 4) \uac12\uc758 \ub0b4\ub9bc\ucc28\uc21c \uc21c\uc11c\ub300\ub85c \ud29c\ud50c (\ud0a4, \uac12)\uc744 \ucc28\ub840\ub300\ub85c \ucd9c\ub825\ud558\uc2dc\uc624.\n"
     ]
    },
    {
     "cell_type": "code",
     "collapsed": false,
     "input": [
      "d = {'one':1, 'two':2, 'three':3, 'four':4, 'five':5}\n",
      "k = d.keys()\n",
      "k.sort(cmp=None, key=None, reverse=True)\n",
      "for key in k:\n",
      "    print key, d[key]\n",
      "\n",
      "print\n",
      "# 1) \ud0a4\uc758 \uc54c\ud30c\ubcb3 \uc624\ub984\ucc28\uc21c \uc21c\uc11c\ub300\ub85c \ud29c\ud50c (\ud0a4, \uac12)\uc744 \ucc28\ub840\ub300\ub85c \ucd9c\ub825\ud558\uc2dc\uc624.\n",
      "\n",
      "d = {'one':1, 'two':2, 'three':3, 'four':4, 'five':5}\n",
      "k = d.keys()\n",
      "k.sort(cmp=None, key=None, reverse=False)\n",
      "for key in k:\n",
      "    print key, d[key]\n",
      "    \n",
      "print\n",
      "#\u25fe2) \ud0a4\uc758 \uc54c\ud30c\ubcb3 \ub0b4\ub9bc\ucc28\uc21c \uc21c\uc11c\ub300\ub85c \ud29c\ud50c (\ud0a4, \uac12)\uc744 \ucc28\ub840\ub300\ub85c \ucd9c\ub825\ud558\uc2dc\uc624.\n",
      "\n",
      "d = {'one':1, 'two':2, 'three':3, 'four':4, 'five':5}\n",
      "k = d.values()\n",
      "k.sort(cmp=None, key=None, reverse=True)\n",
      "for value in k:\n",
      "    for x in d.keys():\n",
      "        if(value==d[x]):\n",
      "            print x,value\n",
      "\n",
      "print\n",
      "# 3) \uac12\uc758 \uc624\ub984\ucc28\uc21c \uc21c\uc11c\ub300\ub85c \ud29c\ud50c (\ud0a4, \uac12)\uc744 \ucc28\ub840\ub300\ub85c \ucd9c\ub825\ud558\uc2dc\uc624. \n",
      "\n",
      "d = {'one':1, 'two':2, 'three':3, 'four':4, 'five':5}\n",
      "k = d.values()\n",
      "k.sort(cmp=None, key=None, reverse=False)\n",
      "for value in k:\n",
      "    for x in d.keys():\n",
      "        if(value==d[x]):\n",
      "            print x,value\n",
      "            \n",
      "# 4) \uac12\uc758 \ub0b4\ub9bc\ucc28\uc21c \uc21c\uc11c\ub300\ub85c \ud29c\ud50c (\ud0a4, \uac12)\uc744 \ucc28\ub840\ub300\ub85c \ucd9c\ub825\ud558\uc2dc\uc624. \n"
     ],
     "language": "python",
     "metadata": {},
     "outputs": [
      {
       "output_type": "stream",
       "stream": "stdout",
       "text": [
        "two 2\n",
        "three 3\n",
        "one 1\n",
        "four 4\n",
        "five 5\n",
        "\n",
        "five 5\n",
        "four 4\n",
        "one 1\n",
        "three 3\n",
        "two 2\n",
        "\n",
        "five 5\n",
        "four 4\n",
        "three 3\n",
        "two 2\n",
        "one 1\n",
        "\n",
        "one 1\n",
        "two 2\n",
        "three 3\n",
        "four 4\n",
        "five 5\n"
       ]
      }
     ],
     "prompt_number": 13
    },
    {
     "cell_type": "markdown",
     "metadata": {},
     "source": [
      "- \uc774\uc804 Assignment 2\uc758 \ub9c8\uc9c0\ub9c9 \ubb38\uc81c\ub294 \uc6f9 URL\ub85c \uc9c0\uc815\ub41c \uc6f9\ud398\uc774\uc9c0\ub97c \ubb38\uc790\uc5f4\ub85c \uac00\uc838\uc640 \ubaa8\ub4e0 HTML \ud0dc\uadf8 \ubc0f CSS\uc640 Javascript\ub97c \uc81c\uc678\ud55c \uc21c\uc218 \ud14d\uc2a4\ud2b8\ub97c \uc5bb\uc5b4\ub0b4\uace0 \uadf8 \uc548\uc5d0 \uc874\uc7ac\ud558\ub294 \ub2e8\uc5b4\ub97c \ucd94\ucd9c\ud558\ub294 \ud504\ub85c\uadf8\ub7a8\uc744 \uc791\uc131\ud558\ub294 \uac83\uc774\uc5c8\ub2e4. \uc774\ubc88\uc5d0\ub294 \uadf8 \ub9c8\uc9c0\ub9c9 \uc219\uc81c\ub97c \uadf8\ub300\ub85c \ud655\uc7a5\ud558\uc5ec \uc6f9 URL\ub85c \uc9c0\uc815\ub41c \uc6f9\ud398\uc774\uc9c0 \ub0b4 \uc21c\uc218 \ud14d\uc2a4\ud2b8 \uc548\uc5d0 \uc874\uc7ac\ud558\ub294 \uac01 \ub2e8\uc5b4\ub4e4\uc5d0 \ub300\ud574 \ub2e4\uc74c \uc694\uad6c\uc0ac\ud56d \ub300\ub85c \ucd9c\ub825\ud558\ub294 \ud504\ub85c\uadf8\ub7a8\uc744 \uc791\uc131\ud558\uc2dc\uc624. \n",
      "\n",
      " - \uc694\uad6c\uc0ac\ud56d 1. \uc21c\uc218 \ud14d\uc2a4\ud2b8 \uc548\uc5d0 \uc874\uc7ac\ud558\ub294 \ub2e8\uc5b4\ub4e4\uc5d0 \ub300\ud574 string \ubaa8\ub4c8\uc744 \ud65c\uc6a9\ud558\uc5ec \ubaa8\ub4e0 punctuation (\uad6c\ub450\ubb38\uc790)\ub97c \uc644\ubcbd\ud788 \uc81c\uac70\ud558\uc2dc\uc624 (\uad50\uc7ac 166\ud398\uc774\uc9c0 \ucc38\uace0).\u25e6\uc608: ['world!', ':', '+hello+', '~python$$$', '=', 'world'] ---> ['world', 'hello', 'python', 'world']\n",
      "\n",
      " - \uc694\uad6c\uc0ac\ud56d 2. \uac01 \ub2e8\uc5b4\ub4e4\uc758 \ucd9c\ud604\ube48\ub3c4\ub97c \uc0ac\uc804\ud615\ud0dc\ub85c \uc800\uc7a5\ud558\uc5ec \ucd9c\ub825\ud558\uc2dc\uc624.\u25e6\uc608: ['world', 'hello', 'python', 'world'] ---> {'world': 2, 'hello': 1, 'python': 1}\n",
      "\n",
      "\n"
     ]
    },
    {
     "cell_type": "code",
     "collapsed": false,
     "input": [
      "import urllib\n",
      "import string\n",
      "\n",
      "source = urllib.urlopen(\"http://cse.kut.ac.kr/\").read()\n",
      "\n",
      "len_source = len(source)\n",
      "print \"Initial length of source:\", len_source\n",
      "\n",
      "source_new = None\n",
      "i = 0\n",
      "while (i < len_source):\n",
      "\tfound = False\n",
      "\tif (found != True and source[i] == \"<\" and source[i+1 : i+7].lower() == \"script\"):\n",
      "\t\tfound = True;\n",
      "\t\tj = i + 7;\n",
      "\t\twhile (True):\n",
      "\t\t\tif (source[j] == \"<\" and source[j+1] == \"/\" and source[j+2 : j+8].lower() == \"script\"):\n",
      "\t\t\t\t#print \"found - script\"\n",
      "\t\t\t\tsource = source[:i] + ' ' + source[j+9:]\n",
      "\t\t\t\tbreak\n",
      "\t\t\tj = j + 1\n",
      "\t\t\tif (j > len_source):\n",
      "\t\t\t\tbreak\n",
      "\t\tlen_source = len(source)\n",
      "\ti = i + 1\n",
      "\n",
      "len_source = len(source)\n",
      "#print len_source\n",
      "\n",
      "i = 0\n",
      "while (i < len_source):\n",
      "\tfound = False\n",
      "\tif (found != True and source[i] == \"<\" and source[i+1 : i+6].lower() == \"style\"):\n",
      "\t\tfound = True;\n",
      "\t\tj = i + 6;\n",
      "\t\twhile (True):\n",
      "\t\t\tif (source[j] == \"<\" and source[j+1] == \"/\" and source[j+2 : j+7].lower() == \"style\"):\n",
      "\t\t\t\t#print \"found - style\"\n",
      "\t\t\t\tsource = source[:i] + ' ' + source[j+8:]\n",
      "\t\t\t\tbreak\n",
      "\t\t\tj = j + 1\n",
      "\t\t\tif (j > len_source):\n",
      "\t\t\t\tbreak\n",
      "\t\tlen_source = len(source)\n",
      "\ti = i + 1\n",
      "\n",
      "len_source = len(source)\n",
      "#print len_source\n",
      "\n",
      "i = 0\n",
      "while (i < len_source):\n",
      "\tfound = False\n",
      "\tif (found != True and source[i] == \"<\"):\n",
      "\t\tfound = True;\n",
      "\t\tj = i + 1;\n",
      "\t\twhile (True):\n",
      "\t\t\tif (source[j] == \">\"):\n",
      "\t\t\t\t#print \"found - HTML tag\"\n",
      "\t\t\t\tsource = source[:i] + ' ' + source[j+1:]\n",
      "\t\t\t\tbreak\n",
      "\t\t\tj = j + 1\n",
      "\t\t\tif (j > len_source):\n",
      "\t\t\t\tbreak\n",
      "\t\tlen_source = len(source)\n",
      "\ti = i + 1\n",
      "\t\n",
      "len_source = len(source)\n",
      "#print len_source\n",
      "\n",
      "i = 0\n",
      "while(i < len_source):\n",
      "    for j in string.punctuation :\n",
      "        if (j==source[i]):   \n",
      "            source = source[:i] + ' ' + source[i+1:]\n",
      "            break\n",
      "    i = i + 1\n",
      "\n",
      "len_source = len(source)\n",
      "print \"Last length of source:\", len_source\n",
      "\n",
      "words = source.split()\n",
      "\n",
      "#for word in words:\n",
      "#\tprint word\n",
      "\n",
      "print \"Total num of plain words:\", len(words)\n",
      "\n",
      "for word in words:\n",
      "    print '\"' + word + '\" ',\n",
      "\n",
      "d = {}\n",
      "\n",
      "for word in words:\n",
      "    if(word in words):\n",
      "        d[word] = 1\n",
      "    else :\n",
      "        d[word] = d[word] +1\n",
      "        \n",
      "print d"
     ],
     "language": "python",
     "metadata": {},
     "outputs": [
      {
       "output_type": "stream",
       "stream": "stdout",
       "text": [
        "Initial length of source: 36565\n",
        "Last length of source:"
       ]
      },
      {
       "output_type": "stream",
       "stream": "stdout",
       "text": [
        " 5480\n",
        "Total num of plain words: 234\n",
        "\"\ucef4\ud4e8\ud130\uacf5\ud559\ubd80\"  \"\ud648\ud398\uc774\uc9c0\"  \"\ucef4\ud4e8\ud130\uacf5\ud559\ubd80\"  \"\uad50\uc721\ubaa9\ud45c\"  \"\ucc3e\uc544\uc624\uc2dc\ub294\uae38\"  \"\uc878\uc5c5\uc791\ud488\"  \"\uacf5\ud559\uc124\uacc4\"  \"\ucde8\uc5c5\uc870\uc0ac2014\"  \"\ucde8\uc5c5\uc870\uc0ac2013\"  \"\uad50\uc218\uc9c4\"  \"\ud559\uc0dd\ud68c\"  \"\uc878\uc5c5\uc774\uc218\uc694\uac74\"  \"\ucef4\ud4e8\ud130S\"  \"W\"  \"\ucef4\ud4e8\ud130H\"  \"W\"  \"\ucef4\ud4e8\ud130\uc2a4\ub9c8\ud2b8IT\"  \"\ucef4\ud4e8\ud130\uc2dc\uc2a4\ud15c\uc751\uc6a9\"  \"\uc7a5\ud559\uc81c\ub3c4\"  \"\ubaa8\uc9d1\uc694\uac15\"  \"\uc785\uc2dcQ\"  \"A\"  \"\uacf5\uc9c0\uc0ac\ud56d\"  \"\uc790\uc720\uac8c\uc2dc\ud310\"  \"\uc775\uba85\uac8c\uc2dc\ud310\"  \"\ucde8\uc5c5\uac8c\uc2dc\ud310\"  \"\ub3d9\ubb38\uac8c\uc2dc\ud310\"  \"\uc0ac\uc9c4\uac8c\uc2dc\ud310\"  \"\ud559\ubd80\uc0ac\uc9c4\uac94\ub7ec\ub9ac\"  \"\uace0\uc7a5\uc2e0\uace0\uac8c\uc2dc\ud310\"  \"\uac15\uc758\uc790\ub8cc\uc2e4\"  \"\uc77c\ubc18\uc790\ub8cc\uc2e4\"  \"\uc11c\uc2dd\ubc0f\uc591\uc2dd\uc790\ub8cc\uc2e4\"  \"\ub300\ud559\uc6d0\uc18c\uac1c\"  \"\uc5f0\uad6c\uc2e4\uc18c\uac1c\"  \"\ub300\ud559\uc6d0\uac8c\uc2dc\ud310\"  \"\uacf5\ud559\uc778\uc99d\uc548\ub0b4\"  \"\uacf5\ud559\uc778\uc99d\uac8c\uc2dc\ud310\"  \"C\"  \"2014\"  \"03\"  \"27\"  \"\uacf5\ud559\uc124\uacc4\"  \"\ud3ec\uc2a4\ud130\ubc1c\ud45c\uacbd\uc9c4\ub300\ud68c\"  \"\ud22c\ud45c\"  \"2013\"  \"12\"  \"10\"  \"2013\ub144\"  \"\uc878\uc5c5\uc791\ud488\"  \"\ube0c\ub85c\uc154\"  \"2013\"  \"10\"  \"07\"  \"\uc81c\"  \"4\ub300\"  \"\ucef4\ud4e8\ud130\uacf5\ud559\ubd80\"  \"\ud559\ud68c\uc7a5\"  \"\ubd80\ud559\"  \"2012\"  \"11\"  \"05\"  \"\ub514\uc9c0\ud138\"  \"\uc2dc\uc2a4\ud15c\"  \"\uc124\uacc41\"  \"\uc2e4\uc2b5\"  \"\uc870\uad50\"  \"2012\"  \"09\"  \"09\"  \"\uc18c\ud504\ud2b8\uc6e8\uc5b4\uacf5\ud559\"  \"\uc911\uac04\uace0\uc0ac\"  \"\uacf5\uc9c0\"  \"2014\"  \"10\"  \"16\"  \"\ucef4\ud4e8\ud130\uacf5\ud559\ubd80\"  \"\ud559\uc0dd\ub4e4\uc744\"  \"\uc704\ud55c\"  \"\ub18d\uad6c\"  \"2014\"  \"10\"  \"06\"  \"\ud639\uc2dc\"  \"\ud64d\uc9c4\ud45c\"  \"\uad50\uc218\ub2d8\uc758\"  \"\ucef4\ud4e8\ud130\"  \"\uad6c\"  \"nbsp\"  \"2\"  \"2014\"  \"10\"  \"06\"  \"\uc18c\ud504\ud2b8\uc6e8\uc5b4\"  \"\uac1c\ubc1c\ubcf4\uc548\"  \"\uacbd\uc9c4\ub300\ud68c\"  \"\uac1c\ucd5c\"  \"2014\"  \"10\"  \"01\"  \"2015\ub144\"  \"\uc0c1\ubc18\uae30\"  \"\uc0bc\uc131\"  \"\uc18c\ud504\ud2b8\uc6e8\uc5b4\"  \"2014\"  \"09\"  \"25\"  \"\ucf64\ud14d\uc2dc\uc2a4\ud15c\"  \"\uc2e0\uc785\uc0ac\uc6d0\"  \"\ubaa8\uc9d1\"  \"2014\"  \"10\"  \"16\"  \"2014\ub144\"  \"T\"  \"money\"  \"\ud55a\uad6d\uc2a4\ub9c8\ud2b8\uce74\ub4dc\"  \"2014\"  \"10\"  \"14\"  \"\uc138\ub9bc\ud2f0\ub124\uc2a4\uc9c0\"  \"\uc8fc\"  \"\uc778\ub825\"  \"\ucc44\uc6a9\"  \"\uacf5\uace0\"  \"2014\"  \"09\"  \"30\"  \"\uc8fc\"  \"\uc5e0\ud504\ub860\ud2f0\uc5b4\"  \"\uc2dc\uc2a4\ud15c\"  \"\uc6b4\uc601\"  \"\uac1c\ubc1c\"  \"2014\"  \"09\"  \"15\"  \"\ucef4\ud4e8\ud130\uacf5\ud559\ubd80\"  \"\ud559\ubd80\uc0ac\ubb34\uc2e4\"  \"\uccad\ub144\uc778\ud134\"  \"2014\"  \"08\"  \"06\"  \"2014\"  \"10\"  \"14\"  \"2014\"  \"10\"  \"14\"  \"1\"  \"2014\ub144\"  \"\uc878\uc5c5\"  \"\ud559\uc220\uc81c\"  \"\ucef4\ud4e8\ud130\uacf5\ud559\ubd80\"  \"\uc878\uc5c5\uc791\ud488\"  \"\uc778\"  \"2014\"  \"10\"  \"16\"  \"\uc878\uc5c5\uc791\ud488\"  \"\ud3ec\uc0c1\"  \"\uacbd\uc9c4\ub300\ud68c\"  \"\uc548\ub0b4\"  \"2014\"  \"10\"  \"15\"  \"\ub300\ud559\uc6d0\uc0dd\"  \"\ub300\uc0c1\"  \"\uc548\uc804\uad50\uc721\"  \"\uc548\ub0b4\"  \"10\"  \"2014\"  \"10\"  \"14\"  \"\ud2b9\uc131\ud654\uc0ac\uc5c5\ub2e8\"  \"\uc77c\ubcf8\uae30\uc220\ud0d0\ubc29\"  \"\uc120\"  \"2014\"  \"10\"  \"13\"  \"2014\ub144\"  \"\ud558\ubc18\uae30\"  \"\ud154\ucf54\uc6e8\uc5b4\"  \"\uc8fc\"  \"\uc2e0\uc785\"  \"2014\"  \"10\"  \"10\"  \"\uc878\uc5c5\uc791\ud488\"  \"\uc804\uc2dc\ud68c\"  \"\ucef4\ud4e8\ud130\uacf5\ud559\ubd80\"  \"\uc778\"  \"2014\"  \"10\"  \"07\"  \"\uc7ac\uacf5\uc9c0\"  \"12\uc77c\"  \"\ub9c8\uac10\"  \"\uc878\uc5c5\uc791\ud488\"  \"\ud3ec\"  \"2014\"  \"10\"  \"04\"  \"LG\uc720\ud50c\ub7ec\uc2a4\"  \"\uae30\uac00\uc778\ud130\ub137\"  \"\uccb4\ud5d8\"  \"\ud504\"  \"2014\"  \"10\"  \"19\"  \"2014\"  \"\ubbf8\ub798\ucc3d\uc870\uacfc\ud559\ubd80\uc7a5\uad00\ubc30\"  \"\ucd95\uad6c\"  \"2014\"  \"10\"  \"19\"  \"2014\"  \"\ubbf8\ub798\ucc3d\uc870\uacfc\ud559\ubd80\uc7a5\uad00\ubc30\"  \"\ucd95\uad6c\"  \"2014\"  \"10\"  \"19\"  \"2014\"  \"\ubbf8\ub798\ucc3d\uc870\uacfc\ud559\ubd80\uc7a5\uad00\ubc30\"  \"\ucd95\uad6c\"  \"2014\"  \"10\"  \"19\"  \"\uc804\uc790\uce98\ub9b0\ub354\"  \"10\uc6d4\"  \"20\"  \"25\uc77c\"  \"2014\"  \"10\"  \"19\"  {'09': 1, '\\xec\\xbb\\xb4\\xed\\x93\\xa8\\xed\\x84\\xb0\\xec\\x8b\\x9c\\xec\\x8a\\xa4\\xed\\x85\\x9c\\xec\\x9d\\x91\\xec\\x9a\\xa9': 1, 'money': 1, '25\\xec\\x9d\\xbc': 1, 'nbsp': 1, '\\xea\\xb3\\xb5\\xec\\xa7\\x80\\xec\\x82\\xac\\xed\\x95\\xad': 1, '2013\\xeb\\x85\\x84': 1, '25': 1, '27': 1, '20': 1, '\\xec\\x97\\xb0\\xea\\xb5\\xac\\xec\\x8b\\xa4\\xec\\x86\\x8c\\xea\\xb0\\x9c': 1, '\\xeb\\xaa\\xa8\\xec\\xa7\\x91\\xec\\x9a\\x94\\xea\\xb0\\x95': 1, '\\xec\\xbd\\xa4\\xed\\x85\\x8d\\xec\\x8b\\x9c\\xec\\x8a\\xa4\\xed\\x85\\x9c': 1, '\\xed\\x95\\x99\\xec\\x88\\xa0\\xec\\xa0\\x9c': 1, '\\xec\\x84\\xb8\\xeb\\xa6\\xbc\\xed\\x8b\\xb0\\xeb\\x84\\xa4\\xec\\x8a\\xa4\\xec\\xa7\\x80': 1, '2014': 1, '2013': 1, '2012': 1, '11': 1, '\\xec\\x9e\\xac\\xea\\xb3\\xb5\\xec\\xa7\\x80': 1, '\\xeb\\x86\\x8d\\xea\\xb5\\xac': 1, 'T': 1, '15': 1, '\\xec\\xa1\\xb0\\xea\\xb5\\x90': 1, '\\xeb\\xaa\\xa8\\xec\\xa7\\x91': 1, '\\xec\\x8b\\xa0\\xec\\x9e\\x85\\xec\\x82\\xac\\xec\\x9b\\x90': 1, '\\xea\\xb0\\x95\\xec\\x9d\\x98\\xec\\x9e\\x90\\xeb\\xa3\\x8c\\xec\\x8b\\xa4': 1, '\\xeb\\x8c\\x80\\xed\\x95\\x99\\xec\\x9b\\x90\\xec\\x83\\x9d': 1, '\\xec\\xa1\\xb8\\xec\\x97\\x85\\xec\\x9e\\x91\\xed\\x92\\x88': 1, '\\xec\\xa1\\xb8\\xec\\x97\\x85': 1, '2015\\xeb\\x85\\x84': 1, '\\xeb\\x8f\\x99\\xeb\\xac\\xb8\\xea\\xb2\\x8c\\xec\\x8b\\x9c\\xed\\x8c\\x90': 1, '\\xeb\\x94\\x94\\xec\\xa7\\x80\\xed\\x84\\xb8': 1, '\\xeb\\x8c\\x80\\xec\\x83\\x81': 1, '03': 1, '01': 1, '06': 1, '07': 1, '04': 1, '05': 1, '\\xea\\xb5\\x90\\xec\\x88\\x98\\xec\\xa7\\x84': 1, '08': 1, '\\xed\\x95\\x99\\xeb\\xb6\\x80\\xec\\x82\\xac\\xec\\xa7\\x84\\xea\\xb2\\x94\\xeb\\x9f\\xac\\xeb\\xa6\\xac': 1, '\\xec\\x9c\\x84\\xed\\x95\\x9c': 1, '\\xec\\x83\\x81\\xeb\\xb0\\x98\\xea\\xb8\\xb0': 1, '\\xed\\x95\\x99\\xec\\x83\\x9d\\xed\\x9a\\x8c': 1, '\\xec\\xb6\\x95\\xea\\xb5\\xac': 1, '4\\xeb\\x8c\\x80': 1, 'C': 1, '\\xed\\x88\\xac\\xed\\x91\\x9c': 1, '\\xea\\xb0\\x9c\\xec\\xb5\\x9c': 1, '\\xed\\x8f\\xac\\xec\\x8a\\xa4\\xed\\x84\\xb0\\xeb\\xb0\\x9c\\xed\\x91\\x9c\\xea\\xb2\\xbd\\xec\\xa7\\x84\\xeb\\x8c\\x80\\xed\\x9a\\x8c': 1, '\\xea\\xb5\\xac': 1, '\\xec\\xb2\\xb4\\xed\\x97\\x98': 1, '\\xec\\x82\\xbc\\xec\\x84\\xb1': 1, 'W': 1, '\\xec\\x97\\xa0\\xed\\x94\\x84\\xeb\\xa1\\xa0\\xed\\x8b\\xb0\\xec\\x96\\xb4': 1, '\\xec\\x82\\xac\\xec\\xa7\\x84\\xea\\xb2\\x8c\\xec\\x8b\\x9c\\xed\\x8c\\x90': 1, '\\xea\\xb3\\xb5\\xed\\x95\\x99\\xec\\x9d\\xb8\\xec\\xa6\\x9d\\xec\\x95\\x88\\xeb\\x82\\xb4': 1, '\\xed\\x95\\x99\\xec\\x83\\x9d\\xeb\\x93\\xa4\\xec\\x9d\\x84': 1, '\\xea\\xb5\\x90\\xec\\x9c\\xa1\\xeb\\xaa\\xa9\\xed\\x91\\x9c': 1, '30': 1, '10\\xec\\x9b\\x94': 1, '\\xec\\x9d\\xb8': 1, '\\xec\\xb7\\xa8\\xec\\x97\\x85\\xec\\xa1\\xb0\\xec\\x82\\xac2013': 1, '\\xec\\xb7\\xa8\\xec\\x97\\x85\\xec\\xa1\\xb0\\xec\\x82\\xac2014': 1, '\\xec\\x9d\\xb5\\xeb\\xaa\\x85\\xea\\xb2\\x8c\\xec\\x8b\\x9c\\xed\\x8c\\x90': 1, '2014\\xeb\\x85\\x84': 1, '\\xec\\x95\\x88\\xec\\xa0\\x84\\xea\\xb5\\x90\\xec\\x9c\\xa1': 1, '\\xeb\\xaf\\xb8\\xeb\\x9e\\x98\\xec\\xb0\\xbd\\xec\\xa1\\xb0\\xea\\xb3\\xbc\\xed\\x95\\x99\\xeb\\xb6\\x80\\xec\\x9e\\xa5\\xea\\xb4\\x80\\xeb\\xb0\\xb0': 1, '\\xec\\xbb\\xb4\\xed\\x93\\xa8\\xed\\x84\\xb0': 1, '\\xed\\x95\\x98\\xeb\\xb0\\x98\\xea\\xb8\\xb0': 1, '\\xec\\xb0\\xbe\\xec\\x95\\x84\\xec\\x98\\xa4\\xec\\x8b\\x9c\\xeb\\x8a\\x94\\xea\\xb8\\xb8': 1, '\\xec\\x9e\\xa5\\xed\\x95\\x99\\xec\\xa0\\x9c\\xeb\\x8f\\x84': 1, '\\xed\\x99\\x88\\xed\\x8e\\x98\\xec\\x9d\\xb4\\xec\\xa7\\x80': 1, '\\xec\\xb7\\xa8\\xec\\x97\\x85\\xea\\xb2\\x8c\\xec\\x8b\\x9c\\xed\\x8c\\x90': 1, '\\xeb\\xa7\\x88\\xea\\xb0\\x90': 1, '\\xec\\xb2\\xad\\xeb\\x85\\x84\\xec\\x9d\\xb8\\xed\\x84\\xb4': 1, '\\xec\\x9d\\xbc\\xeb\\xb3\\xb8\\xea\\xb8\\xb0\\xec\\x88\\xa0\\xed\\x83\\x90\\xeb\\xb0\\xa9': 1, '2': 1, '\\xed\\x8f\\xac\\xec\\x83\\x81': 1, '\\xec\\xbb\\xb4\\xed\\x93\\xa8\\xed\\x84\\xb0H': 1, '\\xec\\x84\\xa4\\xea\\xb3\\x841': 1, '\\xec\\xa4\\x91\\xea\\xb0\\x84\\xea\\xb3\\xa0\\xec\\x82\\xac': 1, '\\xed\\x95\\x9a\\xea\\xb5\\xad\\xec\\x8a\\xa4\\xeb\\xa7\\x88\\xed\\x8a\\xb8\\xec\\xb9\\xb4\\xeb\\x93\\x9c': 1, '\\xec\\xa3\\xbc': 1, '\\xec\\x9e\\x90\\xec\\x9c\\xa0\\xea\\xb2\\x8c\\xec\\x8b\\x9c\\xed\\x8c\\x90': 1, '\\xea\\xb3\\xb5\\xea\\xb3\\xa0': 1, '\\xed\\x85\\x94\\xec\\xbd\\x94\\xec\\x9b\\xa8\\xec\\x96\\xb4': 1, '\\xec\\x95\\x88\\xeb\\x82\\xb4': 1, '\\xec\\xbb\\xb4\\xed\\x93\\xa8\\xed\\x84\\xb0S': 1, '\\xea\\xb0\\x9c\\xeb\\xb0\\x9c': 1, '\\xeb\\x8c\\x80\\xed\\x95\\x99\\xec\\x9b\\x90\\xec\\x86\\x8c\\xea\\xb0\\x9c': 1, '\\xec\\x9e\\x85\\xec\\x8b\\x9cQ': 1, '\\xea\\xb2\\xbd\\xec\\xa7\\x84\\xeb\\x8c\\x80\\xed\\x9a\\x8c': 1, '10': 1, '13': 1, '12': 1, '\\xec\\x86\\x8c\\xed\\x94\\x84\\xed\\x8a\\xb8\\xec\\x9b\\xa8\\xec\\x96\\xb4': 1, '14': 1, '\\xec\\x9d\\xb8\\xeb\\xa0\\xa5': 1, '16': 1, '19': 1, '12\\xec\\x9d\\xbc': 1, '\\xec\\x8b\\xa0\\xec\\x9e\\x85': 1, '\\xec\\x8b\\x9c\\xec\\x8a\\xa4\\xed\\x85\\x9c': 1, '\\xea\\xb3\\xb5\\xec\\xa7\\x80': 1, '\\xed\\x94\\x84': 1, '\\xec\\xa0\\x84\\xec\\x9e\\x90\\xec\\xba\\x98\\xeb\\xa6\\xb0\\xeb\\x8d\\x94': 1, '\\xec\\x84\\x9c\\xec\\x8b\\x9d\\xeb\\xb0\\x8f\\xec\\x96\\x91\\xec\\x8b\\x9d\\xec\\x9e\\x90\\xeb\\xa3\\x8c\\xec\\x8b\\xa4': 1, '\\xed\\x99\\x8d\\xec\\xa7\\x84\\xed\\x91\\x9c': 1, 'LG\\xec\\x9c\\xa0\\xed\\x94\\x8c\\xeb\\x9f\\xac\\xec\\x8a\\xa4': 1, '\\xed\\x95\\x99\\xed\\x9a\\x8c\\xec\\x9e\\xa5': 1, '\\xec\\xbb\\xb4\\xed\\x93\\xa8\\xed\\x84\\xb0\\xea\\xb3\\xb5\\xed\\x95\\x99\\xeb\\xb6\\x80': 1, '\\xed\\x8a\\xb9\\xec\\x84\\xb1\\xed\\x99\\x94\\xec\\x82\\xac\\xec\\x97\\x85\\xeb\\x8b\\xa8': 1, '\\xeb\\x8c\\x80\\xed\\x95\\x99\\xec\\x9b\\x90\\xea\\xb2\\x8c\\xec\\x8b\\x9c\\xed\\x8c\\x90': 1, '\\xec\\x84\\xa0': 1, '1': 1, '\\xec\\xa0\\x9c': 1, '\\xed\\x8f\\xac': 1, '\\xec\\x9d\\xbc\\xeb\\xb0\\x98\\xec\\x9e\\x90\\xeb\\xa3\\x8c\\xec\\x8b\\xa4': 1, '\\xed\\x95\\x99\\xeb\\xb6\\x80\\xec\\x82\\xac\\xeb\\xac\\xb4\\xec\\x8b\\xa4': 1, '\\xec\\x8b\\xa4\\xec\\x8a\\xb5': 1, 'A': 1, '\\xea\\xb3\\xb5\\xed\\x95\\x99\\xec\\x9d\\xb8\\xec\\xa6\\x9d\\xea\\xb2\\x8c\\xec\\x8b\\x9c\\xed\\x8c\\x90': 1, '\\xec\\x86\\x8c\\xed\\x94\\x84\\xed\\x8a\\xb8\\xec\\x9b\\xa8\\xec\\x96\\xb4\\xea\\xb3\\xb5\\xed\\x95\\x99': 1, '\\xeb\\xb8\\x8c\\xeb\\xa1\\x9c\\xec\\x85\\x94': 1, '\\xec\\xa1\\xb8\\xec\\x97\\x85\\xec\\x9d\\xb4\\xec\\x88\\x98\\xec\\x9a\\x94\\xea\\xb1\\xb4': 1, '\\xea\\xb3\\xb5\\xed\\x95\\x99\\xec\\x84\\xa4\\xea\\xb3\\x84': 1, '\\xec\\xa0\\x84\\xec\\x8b\\x9c\\xed\\x9a\\x8c': 1, '\\xec\\xbb\\xb4\\xed\\x93\\xa8\\xed\\x84\\xb0\\xec\\x8a\\xa4\\xeb\\xa7\\x88\\xed\\x8a\\xb8IT': 1, '\\xea\\xb3\\xa0\\xec\\x9e\\xa5\\xec\\x8b\\xa0\\xea\\xb3\\xa0\\xea\\xb2\\x8c\\xec\\x8b\\x9c\\xed\\x8c\\x90': 1, '\\xeb\\xb6\\x80\\xed\\x95\\x99': 1, '\\xec\\xb1\\x84\\xec\\x9a\\xa9': 1, '\\xea\\xb8\\xb0\\xea\\xb0\\x80\\xec\\x9d\\xb8\\xed\\x84\\xb0\\xeb\\x84\\xb7': 1, '\\xea\\xb0\\x9c\\xeb\\xb0\\x9c\\xeb\\xb3\\xb4\\xec\\x95\\x88': 1, '\\xec\\x9a\\xb4\\xec\\x98\\x81': 1, '\\xea\\xb5\\x90\\xec\\x88\\x98\\xeb\\x8b\\x98\\xec\\x9d\\x98': 1, '\\xed\\x98\\xb9\\xec\\x8b\\x9c': 1}\n"
       ]
      }
     ],
     "prompt_number": 14
    },
    {
     "cell_type": "code",
     "collapsed": false,
     "input": [
      "'''\n",
      "len_source = len(source)\n",
      "\n",
      "i = 0\n",
      "while(i < len_source):\n",
      "    for j in string.punctuation :\n",
      "        if (j==source[i]):   \n",
      "            source = source[:i] + ' ' + source[i+1:]\n",
      "            break\n",
      "    i = i + 1\n",
      "'''\n",
      "#punctuation \uc81c\uac70 "
     ],
     "language": "python",
     "metadata": {},
     "outputs": []
    },
    {
     "cell_type": "code",
     "collapsed": false,
     "input": [
      "'''\n",
      "d = {}\n",
      "for word in words:\n",
      "    if(word in words):\n",
      "        d[word] = 1\n",
      "    else :\n",
      "        d[word] = d[word] +1\n",
      "        \n",
      "print d\n",
      "'''\n",
      "# \uc0ac\uc804\ud615\ud0dc\ub85c \uc800\uc7a5\ud558\uc5ec \ucd9c\ub825"
     ],
     "language": "python",
     "metadata": {},
     "outputs": []
    },
    {
     "cell_type": "markdown",
     "metadata": {},
     "source": [
      "\ub9c8\uc9c0\ub9c9 \ubb38\uc81c\uc5d0\uc11c \uc0ac\uc804\ud615\ud0dc\ub85c \uc800\uc7a5\ud588\uc9c0\ub9cc \uc0ac\uc804\uc5d0 \uc800\uc7a5\ub41c \uac12\uc774  '\\xed\\x98\\xb9\\xec\\x8b\\x9c': 1 \uc640 \uac19\uc774 \ucd9c\ub825 \ub418\uc5c8\uc2b5\ub2c8\ub2e4.\n",
      "\uc5b4\ub5bb\uac8c \ud558\uba74 \ud55c\uae00\ub85c \ubcfc \uc218 \uc788\ub294\uc9c0 \ubaa8\ub974\uaca0\uc2b5\ub2c8\ub2e4."
     ]
    },
    {
     "cell_type": "markdown",
     "metadata": {},
     "source": [
      "\uad50\uc218\ub2d8\uc774 \uc218\uc5c5\uc2dc\uac04\ub9c8\ub2e4 \uc5ec\ub2f4\uac19\uc740 \uac78 \ub9ce\uc774 \ud574\uc8fc\uc2dc\uc9c0\ub9cc \ub9e4\uc77c\ub9e4\uc77c \ubb38\ubc95\uc801\uc778 \ubd80\ubd84\ub9cc \ub2e4\ub8e8\ub294 \uac83 \uac19\uc2b5\ub2c8\ub2e4... "
     ]
    }
   ],
   "metadata": {}
  }
 ]
}