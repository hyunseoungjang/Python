{
 "metadata": {
  "name": "",
  "signature": "sha256:feb816034e02fc1947f766d76a2c41719e45366ca97ddc7f67e196da807b9f53"
 },
 "nbformat": 3,
 "nbformat_minor": 0,
 "worksheets": [
  {
   "cells": [
    {
     "cell_type": "markdown",
     "metadata": {},
     "source": [
      "- Assignment4\n",
      "- 2011136103 \uc7a5\ud604\uc2b9"
     ]
    },
    {
     "cell_type": "markdown",
     "metadata": {},
     "source": [
      "- [1\ubc88 \ubb38\uc81c] \ud30c\uc77c s.txt \ub0b4\uc758 \ub2e4\uc74c \ub0b4\uc6a9\uacfc \ud568\uaed8 \uc544\ub798 \ubb38\uc81c\uc758 \ucf54\ub4dc\ub97c \uc81c\uc2dc\ud558\uc2dc\uc624. \n",
      " > pig ham <br/>\n",
      " > cat dog <br/>\n",
      " > ham bird <br/>\n",
      " > dog pig <br/>"
     ]
    },
    {
     "cell_type": "markdown",
     "metadata": {},
     "source": [
      "- 1) \ud30c\uc77c s.txt\uc744 \uc77d\uc5b4\uc11c \uac01 \ub77c\uc778\ub4e4\uc5d0 \uc788\ub294 \uccab \ubc88\uc9f8 \ub2e8\uc5b4(\ubb38\uc790\uc5f4)\ub4e4\uc744 \uae30\uc900\uc73c\ub85c \ub77c\uc778\ubcc4 \uc815\ub82c\ud6c4 \ud30c\uc77c s1.txt\uc5d0 \uadf8 \uacb0\uacfc\ub97c \uae30\ub85d\ud558\ub294 \ucf54\ub4dc\ub97c \uc791\uc131\ud558\uc2dc\uc624. \uc989, \ud504\ub85c\uadf8\ub7a8 \uc218\ud589 \ud6c4 s1.txt\uc5d0 \uc788\ub294 \ud30c\uc77c \ub0b4\uc6a9\uc740 \ub2e4\uc74c\uacfc \uac19\ub2e4.\n",
      "  > cat dog <br/>\n",
      "  > dog pig <br/>\n",
      "  > ham bird <br/>\n",
      "  > pig ham <br/>"
     ]
    },
    {
     "cell_type": "code",
     "collapsed": false,
     "input": [
      "f = open('s.txt')\n",
      "lines = []\n",
      "i = 1\n",
      "for line in f.readlines():\n",
      "    lines.append(line)\n",
      "    i += 1\n",
      "lines.sort()\n",
      "f.close()\n",
      "\n",
      "f = open('s1.txt', 'w+')\n",
      "f.writelines(lines)\n",
      "f.seek(0)\n",
      "print f.read()\n",
      "f.close()"
     ],
     "language": "python",
     "metadata": {},
     "outputs": [
      {
       "output_type": "stream",
       "stream": "stdout",
       "text": [
        "cat dog\n",
        "dog pig\n",
        "ham bird\n",
        "pig ham\n",
        "\n"
       ]
      }
     ],
     "prompt_number": 1
    },
    {
     "cell_type": "markdown",
     "metadata": {},
     "source": [
      "readlines\ub97c \uc774\uc6a9\ud574\uc11c \ud55c \uc904 \uc529 \uc77d\uace0 sort()\ud568\uc218\ub85c \uc815\ub82c\ud55c\ub2e4."
     ]
    },
    {
     "cell_type": "markdown",
     "metadata": {},
     "source": [
      "- 2) \ud30c\uc77c s.txt\uc744 \uc77d\uc5b4\uc11c \uac01 \ub77c\uc778\ub4e4\uc5d0 \uc788\ub294 \ub450 \ubc88\uc9f8 \ub2e8\uc5b4(\ubb38\uc790\uc5f4)\ub4e4\uc744 \uae30\uc900\uc73c\ub85c \ub77c\uc778\ubcc4 \uc815\ub82c\ud6c4 \ud30c\uc77c s2.txt\uc5d0 \uadf8 \uacb0\uacfc\ub97c \uae30\ub85d\ud558\ub294 \ucf54\ub4dc\ub97c \uc791\uc131\ud558\uc2dc\uc624. \uc989, \ud504\ub85c\uadf8\ub7a8 \uc218\ud589 \ud6c4 s2.txt\uc5d0 \uc788\ub294 \ud30c\uc77c \ub0b4\uc6a9\uc740 \ub2e4\uc74c\uacfc \uac19\ub2e4.\n",
      " > ham bird <br/>\n",
      " > cat dog <br/>\n",
      " > pig ham <br/>\n",
      " > dog pig <br/>"
     ]
    },
    {
     "cell_type": "code",
     "collapsed": false,
     "input": [
      "f = open('s.txt')\n",
      "lines = []\n",
      "i = 1\n",
      "for line in f.readlines():\n",
      "    lines.append(line)\n",
      "    i += 1\n",
      "    \n",
      "def sortlist(x):\n",
      "    return x.split()[1]   \n",
      "    \n",
      "lines.sort(key=sortlist)\n",
      "f.close()\n",
      "\n",
      "f = open('s2.txt', 'w+')\n",
      "f.writelines(lines)\n",
      "f.seek(0)\n",
      "print f.read()\n",
      "f.close()"
     ],
     "language": "python",
     "metadata": {},
     "outputs": [
      {
       "output_type": "stream",
       "stream": "stdout",
       "text": [
        "ham bird\n",
        "cat dog\n",
        "pig ham\n",
        "dog pig\n",
        "\n"
       ]
      }
     ],
     "prompt_number": 2
    },
    {
     "cell_type": "markdown",
     "metadata": {},
     "source": [
      "sort\ud568\uc218\uc5d0 key\ub85c \ub450\ubc88\uc9f8 \ub2e8\uc5b4\ub97c \uc4f0\uac8c \ud558\uc600\ub2e4."
     ]
    },
    {
     "cell_type": "markdown",
     "metadata": {},
     "source": [
      "- 3) \ud30c\uc77c s.txt\uc744 \uc77d\uc5b4\uc11c \uac01 \ub77c\uc778\ub4e4\uc5d0 \uc788\ub294 \ubaa8\ub4e0 \ub2e8\uc5b4\ub4e4\uc744 \uc21c\ucc28\uc801\uc73c\ub85c \ub2e4\uc2dc \ub098\uc5f4\ud558\ub418 \uac01 \ub77c\uc778\uc5d0 \uc138 \uac1c\uc758 \ub2e8\uc5b4\ub4e4\uc774 \uc624\ub3c4\ub85d \ud558\uc5ec s3.txt\uc5d0 \uae30\ub85d\ud558\ub294 \ucf54\ub4dc\ub97c \uc791\uc131\ud558\uc2dc\uc624. \uc989, \ud504\ub85c\uadf8\ub7a8 \uc218\ud589 \ud6c4 s3.txt\uc5d0 \uc788\ub294 \ud30c\uc77c \ub0b4\uc6a9\uc740 \ub2e4\uc74c\uacfc \uac19\ub2e4.\n",
      " > pig ham cat <br/>\n",
      " > dog ham bird <br/>\n",
      " > dog pig <br/>"
     ]
    },
    {
     "cell_type": "code",
     "collapsed": false,
     "input": [
      "f = open('s.txt')\n",
      "lines = []\n",
      "i = 1\n",
      "for line in f.readlines():\n",
      "    lines.append(line.split(' ')[0])\n",
      "    lines.append(line.split(' ')[1].rstrip('\\n'))\n",
      "    i += 1\n",
      "f.close()\n",
      "f = open('s3.txt', 'w+')\n",
      "i=0\n",
      "for line in lines :\n",
      "    f.write(line + ' ')\n",
      "    i += 1\n",
      "    if(i%3==0) :\n",
      "        f.write('\\n')\n",
      "f.seek(0)\n",
      "print f.read()\n",
      "f.close()"
     ],
     "language": "python",
     "metadata": {},
     "outputs": [
      {
       "output_type": "stream",
       "stream": "stdout",
       "text": [
        "pig ham cat \n",
        "dog ham bird \n",
        "dog pig \n"
       ]
      }
     ],
     "prompt_number": 3
    },
    {
     "cell_type": "markdown",
     "metadata": {},
     "source": [
      "split\ud568\uc218\ub85c \ub2e8\uc5b4\ub97c \ub098\ub208\ub2e4.\n",
      "for\ubb38\uc744 \uc0ac\uc6a9\ud574\uc11c i\uac00 3\uc758 \ubc30\uc218\uc77c\ub54c \uac1c\ud589\uc744 \ud55c\ub2e4."
     ]
    },
    {
     "cell_type": "markdown",
     "metadata": {},
     "source": [
      "- [2\ubc88 \ubb38\uc81c] \ub2e4\uc74c\uacfc \uac19\uc740 \uc870\uac74\ub4e4\uc744 \ucc38\uace0\ud558\uc5ec \ud68c\uc6d0 \uac00\uc785 \ubc0f \ub85c\uadf8\uc778 \ud504\ub85c\uadf8\ub7a8\uc744 \uc791\uc131\ud558\uc2dc\uc624.\n",
      " - 1) \ud504\ub85c\uadf8\ub7a8 \uc2dc\uc791 \ud6c4 \ub2e4\uc74c\uacfc \uac19\uc740 \uba54\uc2dc\uc9c0\uac00 \ucd9c\ub825\ub418\uc5b4 1, 2, 3 \uc911 \ud558\ub098\uc758 \uac12\uc744 \uc785\ub825 \ubc1b\ub3c4\ub85d \ud55c\ub2e4.\n",
      "\n",
      "> Welcome to Our Service <br/>\n",
      "\n",
      "> 1.Sign Up <br/>\n",
      "\n",
      "> 2.Sign In <br/>\n",
      "\n",
      "> 3.Quit <br/>\n",
      "\n",
      "\n",
      " - 2) 1\uc744 \uc120\ud0dd\ud558\uba74 ID, Password, Name, School\uc758 4\uac00\uc9c0 \uc815\ubcf4\ub97c \uc785\ub825\ubc1b\uc544 \ud30c\uc77c\uc5d0 \uc800\uc7a5\ud558\ub294 \ud504\ub85c\uadf8\ub7a8\uc744 \uc791\uc131\ud55c\ub2e4.\u25e62-1) \uc785\ub825\ub41c \ub0b4\uc6a9\uc740 access \ub77c\ub294 \uc774\ub984\uc758 \ud30c\uc77c \ub0b4\uc5d0 \uc800\uc7a5\ub41c\ub2e4. \n",
      "  - 2-2) access \ud30c\uc77c\uc758 \uac01 \ub77c\uc778\uc5d0\ub294 \uac00\uc785\ub41c \ud68c\uc6d0 \uac01\uac01\uc758 \uc815\ubcf4\uac00 \"id: password, name, school\" \ud615\ud0dc\ub85c \uc800\uc7a5\ub41c\ub2e4.\n",
      "  - 2-3) \uc989, \uac00\uc785 \ud68c\uc6d0\uc774 10\uba85\uc774\uba74 access \ud30c\uc77c \ub0b4\uc5d0 \ub77c\uc778 \uc218\ub3c4 \uc815\ud655\ud788 10\uc774\ub2e4.\n",
      "  - 2-4) \uc554\ud638\ud654 \ubc29\uc2dd\uc740 sha \ubaa8\ub4c8\uc744 \ud65c\uc6a9\ud55c\ub2e4. sha \ubaa8\ub4c8 \ud65c\uc6a9 \ubc29\ubc95\uc740 \ubcf8 \ubb38\uc81c\uc758 \ub9c8\uc9c0\ub9c9\uc5d0 \uc81c\uc2dc\ub41c sha \ud65c\uc6a9 \uc608\ub97c \ucc38\uace0\ud55c\ub2e4.\u25e6\uc989, access \ud30c\uc77c \ub0b4\uc5d0 password \uc815\ubcf4\ub294 \uc554\ud638\ud654 \ub418\uc5b4 \uc800\uc7a5\ub418\uc5b4\uc57c \ud55c\ub2e4.\n",
      "\n",
      "  - 2-5) \ud68c\uc6d0 \uc815\ubcf4\ub97c \uc785\ub825 \ubc1b\uc744 \ub54c id\ub97c \uc785\ub825 \ubc1b\uc740 \uc9c1\ud6c4 access\ub97c \ud655\uc778\ud558\uc5ec \uc774\ubbf8 \uc874\uc7ac\ud558\ub294 id\uac00 \uc785\ub825\ub418\uc5c8\ub2e4\uba74 \ub2e4\uc74c \uba54\uc2dc\uc9c0\ub97c \ucd9c\ub825\ud558\uace0 id \uc815\ubcf4\ub97c \ub2e4\uc2dc \uc785\ub825\ubc1b\ub294\ub2e4.\u25e6Sorry, the entered ID is already used.\n",
      "\n",
      "\n",
      " - 3) 2\ub97c \uc120\ud0dd\ud558\uba74 ID, Password\uc758 2\uac00\uc9c0 \uc815\ubcf4\ub97c \uc785\ub825\ubc1b\ub294 \ud504\ub85c\uadf8\ub7a8\uc744 \uc791\uc131\ud55c\ub2e4.\u25e63-1) \uc785\ub825\ub41c ID \uc815\ubcf4\uac00 access\uc5d0 \uc874\uc7ac\ud558\uc9c0 \uc54a\uc73c\uba74 \ub2e4\uc74c\uacfc \uac19\uc740 \uba54\uc2dc\uc9c0\ub97c \ucd9c\ub825\ud558\uace0 \ub2e4\uc2dc \uc785\ub825\ubc1b\ub294\ub2e4.\u25e6Sorry, you are not a registered member.\n",
      "\n",
      "  - 3-2) \uc785\ub825\ub41c ID\uac00 \uc62c\ubc14\ub974\uac8c \uc874\uc7ac\ud558\uc9c0\ub9cc Password \uc815\ubcf4\uac00 access \ud30c\uc77c\uc5d0 \uc788\ub294 \uc815\ubcf4\uc640 \ubd88\uc77c\uce58 \ud558\uba74 \ub2e4\uc74c\uacfc \uac19\uc740 \uba54\uc2dc\uc9c0\ub97c \ucd9c\ub825\ud558\uace0 \ub2e4\uc2dc \uc785\ub825\ubc1b\ub294\ub2e4.\u25e6Sorry, the entered password is not correct.\n",
      "  - \uc774 \ub54c\uc5d0\ub3c4 \uc0ac\uc6a9\uc790\uac00 \uc785\ub825\ud55c \ud328\uc2a4\uc6cc\ub4dc \uc815\ubcf4\uc640 \ud568\uaed8 sha \ubaa8\ub4c8\uc774 \ud65c\uc6a9\ub418\uc5b4\uc57c \ud55c\ub2e4.\n",
      "\n",
      "  - 3-3) \uc785\ub825\ub41c ID\uc640 Password\uac00 \ubaa8\ub450 \uc62c\ubc14\ub974\uba74 \ub2e4\uc74c\uacfc \uac19\uc740 \uba54\uc2dc\uc9c0\ub97c \ucd9c\ub825\ud55c\ub2e4.\u25e6Hello [name]!\n",
      "  - \uc704 [name]\uc5d0\ub294 access\uc5d0 \uae30\ub85d\ub418\uc5b4 \uc788\ub294 name \uc815\ubcf4\ub97c \ucd9c\ub825\ud55c\ub2e4.\n",
      "\n",
      "\n",
      " - 4) 3\uc744 \uc120\ud0dd\ud558\uba74 \ud504\ub85c\uadf8\ub7a8\uc774 \ub05d\ub09c\ub2e4.\n"
     ]
    },
    {
     "cell_type": "code",
     "collapsed": false,
     "input": [
      "import sha\n",
      "\n",
      "print 'Welcome to our Service'\n",
      "f = open('access.txt', 'w+')\n",
      "while(1) :\n",
      "    print '1. Sign Up'\n",
      "    print '2. Sign In'\n",
      "    print '3. Quit'\n",
      "    select = input()\n",
      "    if(select == 1) :\n",
      "        line = []\n",
      "        ID = raw_input('ID : ')\n",
      "        Password = raw_input('Password : ')\n",
      "        Password_plain = Password\n",
      "        Password_encrypted = sha.new(Password_plain).hexdigest()\n",
      "        Name = raw_input('Name : ')\n",
      "        School = raw_input('School : ')\n",
      "        line.append(ID)\n",
      "        line.append(Password_encrypted)\n",
      "        line.append(Name)\n",
      "        line.append(School)\n",
      "        f.write(' '.join(line))\n",
      "        f.write('\\n')\n",
      "    elif(select==2) :\n",
      "        f.seek(0)\n",
      "        ID = raw_input('ID : ')\n",
      "        Password = raw_input('Password : ')\n",
      "        for line in f :\n",
      "            if(ID == line.split()[0]) :\n",
      "                Password_plain = Password\n",
      "                Password_encrypted = sha.new(Password_plain).hexdigest()\n",
      "                if(Password_encrypted == line.split()[1]) :\n",
      "                    print 'Hello', line.split()[0]\n",
      "                    print  line.split()[2].decode('cp949'), line.split()[3].decode('cp949')\n",
      "                else :\n",
      "                    print 'Sorry, the entered password is not correct.'\n",
      "            else :\n",
      "                print 'Sorry, you are not a registered member.'\n",
      "    elif(select==3) :\n",
      "        break\n",
      "        \n",
      "f.close()"
     ],
     "language": "python",
     "metadata": {},
     "outputs": [
      {
       "output_type": "stream",
       "stream": "stdout",
       "text": [
        "Welcome to our Service\n",
        "1. Sign Up\n",
        "2. Sign In\n",
        "3. Quit\n"
       ]
      },
      {
       "name": "stdout",
       "output_type": "stream",
       "stream": "stdout",
       "text": [
        "1\n"
       ]
      },
      {
       "name": "stdout",
       "output_type": "stream",
       "stream": "stdout",
       "text": [
        "ID : hyunseoungjang\n"
       ]
      },
      {
       "name": "stdout",
       "output_type": "stream",
       "stream": "stdout",
       "text": [
        "Password : 2011136103\n"
       ]
      },
      {
       "name": "stdout",
       "output_type": "stream",
       "stream": "stdout",
       "text": [
        "Name : \uc7a5\ud604\uc2b9\n"
       ]
      },
      {
       "name": "stdout",
       "output_type": "stream",
       "stream": "stdout",
       "text": [
        "School : \ud55c\uad6d\uae30\uc220\uad50\uc721\ub300\ud559\uad50\n"
       ]
      },
      {
       "output_type": "stream",
       "stream": "stdout",
       "text": [
        "1. Sign Up\n",
        "2. Sign In\n",
        "3. Quit\n"
       ]
      },
      {
       "name": "stdout",
       "output_type": "stream",
       "stream": "stdout",
       "text": [
        "2\n"
       ]
      },
      {
       "name": "stdout",
       "output_type": "stream",
       "stream": "stdout",
       "text": [
        "ID : hyunseoungjang\n"
       ]
      },
      {
       "name": "stdout",
       "output_type": "stream",
       "stream": "stdout",
       "text": [
        "Password : 2011136103\n"
       ]
      },
      {
       "output_type": "stream",
       "stream": "stdout",
       "text": [
        "Hello hyunseoungjang\n",
        "\uc7a5\ud604\uc2b9 \ud55c\uad6d\uae30\uc220\uad50\uc721\ub300\ud559\uad50\n",
        "1. Sign Up\n",
        "2. Sign In\n",
        "3. Quit\n"
       ]
      },
      {
       "name": "stdout",
       "output_type": "stream",
       "stream": "stdout",
       "text": [
        "3\n"
       ]
      }
     ],
     "prompt_number": 2
    },
    {
     "cell_type": "markdown",
     "metadata": {},
     "source": [
      "while\ubb38\uc73c\ub85c \uc804\uccb4\ub97c \ubc18\ubcf5 \ud558\uac8c \ub9cc\ub4e4\uace0 if\ubb38\uc73c\ub85c 3\uac1c\uc758 \uacbd\uc6b0\uc758 \uc218\ub97c \ub9cc\ub4e4\uc5c8\ub2e4."
     ]
    },
    {
     "cell_type": "markdown",
     "metadata": {},
     "source": [
      "- [3\ubc88 \ubb38\uc81c] range() \ud568\uc218\uc640 \uc720\uc0ac\ud55c frange() \ud568\uc218\ub97c \ub2e4\uc74c \uc870\uac74\uc744 \ucc38\uace0\ud558\uc5ec \ub9cc\ub4dc\uc2dc\uc624.\u25fe1) frange()\uc758 \uc778\uc790 \uad6c\uc131\uc740 \ub2e4\uc74c\uacfc \uac19\uc774 range\uc640 \ub3d9\uc77c\ud558\uc9c0\ub9cc \uac01 \uc778\uc218\ub4e4\uc740 \uc74c\uc218\ub97c \ubc1b\uc9c0 \uc54a\ub294\ub2e4\uace0 \uac00\uc815\ud55c\ub2e4.\n",
      "\n",
      ">range(stop) <br/>\n",
      ">range(start, stop[, step]) <br/>\n",
      "\n",
      "\n",
      " - 2) frange() \ud568\uc218\uc758 \uc778\uc790\uc5d0 \ub300\ud55c \uae30\ubcf8 \uc2dc\uc791(start) \uac12\uc740 0.0\uc774\uace0, \uae30\ubcf8 \ub2e8\uacc4(step) \uac12\uc740 0.1\uc774\ub2e4. \n",
      " - 3) frange \uc0ac\uc6a9 \uc608\n",
      " \n",
      "  - 3-1) frange(0.5)\n",
      "   - [0.0, 0.1, 0.2, 0.3, 0.4]\n",
      "  - 3-2) frange(1.0, 2.0)\n",
      "   - [1.0, 1.1, 1.2, 1.3, 1.4, 1.5, 1.6, 1.7, 1.8, 1.9]\n",
      "  - 3-3) frange(2.2, 4.0, 0.5)\n",
      "   - [2.2, 2.7, 3.2, 3.7]\n",
      "\n",
      "\n"
     ]
    },
    {
     "cell_type": "code",
     "collapsed": false,
     "input": [
      "def frange(stop) :\n",
      "        i = 0\n",
      "        while(i<stop) :  \n",
      "            print i,\n",
      "            i += 0.1\n",
      "frange(0.5)"
     ],
     "language": "python",
     "metadata": {},
     "outputs": [
      {
       "output_type": "stream",
       "stream": "stdout",
       "text": [
        "0.1 0.2 0.3 0.4 0.5\n"
       ]
      }
     ],
     "prompt_number": 6
    },
    {
     "cell_type": "code",
     "collapsed": false,
     "input": [
      "def frange (start, stop, step=0.1) :     \n",
      "    while(start < stop) :\n",
      "        print start,\n",
      "        start += step\n",
      "    return\n",
      "    \n",
      "frange(1.0, 2.0)\n",
      "print\n",
      "frange(2.2, 4.0, 0.5)"
     ],
     "language": "python",
     "metadata": {},
     "outputs": [
      {
       "output_type": "stream",
       "stream": "stdout",
       "text": [
        "1.0 1.1 1.2 1.3 1.4 1.5 1.6 1.7 1.8 1.9\n",
        "2.2 2.7 3.2 3.7\n"
       ]
      }
     ],
     "prompt_number": 5
    },
    {
     "cell_type": "markdown",
     "metadata": {},
     "source": [
      "\uac01\uac01\uc758 \ud568\uc218 \uad6c\ud604. step\uc740 \ub514\ud3f4\ud2b8\uac12\uc744 \uc8fc\uc5c8\ub2e4."
     ]
    },
    {
     "cell_type": "markdown",
     "metadata": {},
     "source": [
      "- [4\ubc88 \ubb38\uc81c] \uac00\ubcc0\uc778\uc218\ub97c \ubc1b\ub294 \ud568\uc218 sum()\uc744 \ub2e4\uc74c\uacfc \uac19\uc740 \uc870\uac74\uc744 \ucc38\uace0\ud558\uc5ec \uad6c\ud604\ud558\uc2dc\uc624\u25fe1) sum() \uc0ac\uc6a9 \uc608 \u25e6sum()\u25e60\n",
      " - sum(1, 2)\n",
      "  - 3\n",
      " - sum(1, 2, 3, 4, 5)\n",
      "  - 15\n",
      " - sum(1, 5, 7, 2, -10)\n",
      "  - 5"
     ]
    },
    {
     "cell_type": "code",
     "collapsed": false,
     "input": [
      "def sum (a=0, *arg) : \n",
      "    \n",
      "    for i in arg :\n",
      "        a += i\n",
      "    return  a\n",
      "    \n",
      "print sum()\n",
      "print sum(1,2)\n",
      "print sum(1,2,3,4,5)\n",
      "print sum(1,5,7,2,-10)"
     ],
     "language": "python",
     "metadata": {},
     "outputs": [
      {
       "output_type": "stream",
       "stream": "stdout",
       "text": [
        "0\n",
        "3\n",
        "15\n",
        "5\n"
       ]
      }
     ],
     "prompt_number": 7
    },
    {
     "cell_type": "markdown",
     "metadata": {},
     "source": [
      "\uac00\ubcc0\uc778\uc218\ub97c \uc0ac\uc6a9\ud558\uc5ec \ud568\uc218 \uad6c\ud604."
     ]
    },
    {
     "cell_type": "markdown",
     "metadata": {},
     "source": [
      "- [5\ubc88 \ubb38\uc81c] \uc5ec\ub7ec \ub2e8\uc5b4\ub85c \uc774\ub8e8\uc5b4\uc9c4 \ubb38\uc790\uc5f4\uc744 \uc785\ub825\ubc1b\uc544 \uac01 \ub2e8\uc5b4\uc758 \uccab\uae00\uc790\ub85c \uc774\ub8e8\uc5b4\uc9c4 \ub2e8\uc5b4\ub97c \ub300\ubb38\uc790\ub85c \ucd9c\ub825\ud558\ub294 myinitial() \ud568\uc218\ub97c \ub2e4\uc74c \uc870\uac74\uc744 \ucc38\uace0\ud558\uc5ec \uc791\uc131\ud558\uc2dc\uc624.\n",
      " - 1) split, map, join \ud568\uc218\ub97c \ubaa8\ub450 \uc774\uc6a9\ud574\uc57c \ud55c\ub2e4.\n",
      " - 2) myinitial() \ud568\uc218 \uc0ac\uc6a9 \uc608\n",
      "  - myinitial(\"as soon as possible\")\n",
      "   - ASAP"
     ]
    },
    {
     "cell_type": "code",
     "collapsed": false,
     "input": [
      "def initial(word) :\n",
      "    return word[0].upper()\n",
      "\n",
      "words = map(initial,\"as soon as possible\".split())\n",
      "words = \"\".join(words)\n",
      "print words"
     ],
     "language": "python",
     "metadata": {},
     "outputs": [
      {
       "output_type": "stream",
       "stream": "stdout",
       "text": [
        "ASAP\n"
       ]
      }
     ],
     "prompt_number": 8
    },
    {
     "cell_type": "markdown",
     "metadata": {},
     "source": [
      "map\uc744 \uc774\uc6a9\ud558\uc5ec split()\uc73c\ub85c \ubd84\ub9ac\ub41c \ub2e8\uc5b4\ub4e4\uc744 \uac01\uac01 \ud568\uc218\uc5d0 \ub300\uc751 \uc2dc\ud0a4\ub3c4\ub85d \ud588\ub2e4."
     ]
    },
    {
     "cell_type": "markdown",
     "metadata": {},
     "source": [
      "- [6\ubc88 \ubb38\uc81c] \uc74c\uc774 \uc544\ub2cc \uc815\uc218 n\ub97c \uc785\ub825\ubc1b\uc73c\uba74 n! (factorial)\uc744 \uacc4\uc0b0\ud558\ub294 myfact() \ud568\uc218\ub97c \uc7ac\uadc0\uc801 \ud568\uc218\ub85c \uad6c\ud604\ud558\uc2dc\uc624."
     ]
    },
    {
     "cell_type": "code",
     "collapsed": false,
     "input": [
      "def factorial(n) :\n",
      "    if(n==1): return 1\n",
      "    return n * factorial(n-1)\n",
      "\n",
      "print factorial(5)\n",
      "print factorial(10)"
     ],
     "language": "python",
     "metadata": {},
     "outputs": [
      {
       "output_type": "stream",
       "stream": "stdout",
       "text": [
        "120\n",
        "3628800\n"
       ]
      }
     ],
     "prompt_number": 5
    },
    {
     "cell_type": "markdown",
     "metadata": {},
     "source": [
      "n\uc774 1\uc774 \ub420\ub54c\uae4c\uc9c0 factorial(n-1)\uc744 \uc7ac\uadc0\ud638\ucd9c\ud55c\ub2e4."
     ]
    },
    {
     "cell_type": "markdown",
     "metadata": {},
     "source": [
      "- [7\ubc88 \ubb38\uc81c] (\uc11c\uc220\ud615) import string \uacfc from string import * \uc758 \ucc28\uc774\uc810\uc744 \uc124\uba85\ud558\uc2dc\uc624.\n"
     ]
    },
    {
     "cell_type": "markdown",
     "metadata": {},
     "source": [
      "  - import \ubaa8\ub4c8\uba85\n",
      "   - \uac00\uc7a5 \uae30\ubcf8\uc801\uc778 \ud615\ud0dc \uc774\ub984 \uacf5\uac04 string\uc774 \uadf8\ub300\ub85c \uc720\uc9c0\ub418\ubbc0\ub85c string.split() \ud615\ud0dc\ub85c \uc790\uaca9 \uc774\ub984 \uc0ac\uc6a9\n",
      "  - from \ubaa8\ub4c8\uba85 import *\n",
      "   - \ud574\ub2f9 \ubaa8\ub4c8\uc5d0 \uc874\uc7ac\ud558\ub294 '__'\ub85c \uc2dc\uc791\ub418\ub294 \uc774\ub984\ub4e4\uc744 \uc81c\uc678\ud55c \ubaa8\ub4e0 \uc774\ub984\ub4e4\uc744 \ud604\uc7ac \uc774\ub984 \uacf5\uac04\uc73c\ub85c \ubd88\ub7ec\ub4e4\uc778\ub2e4. \n"
     ]
    },
    {
     "cell_type": "markdown",
     "metadata": {},
     "source": [
      "- [8\ubc88 \ubb38\uc81c] \uc774\uc804 Assignment 3\uc758 \ub9c8\uc9c0\ub9c9 \ubb38\uc81c\ub294 \uc6f9 URL\ub85c \uc9c0\uc815\ub41c \uc6f9\ud398\uc774\uc9c0\ub97c \ubb38\uc790\uc5f4\ub85c \uac00\uc838\uc640 \ubaa8\ub4e0 HTML \ud0dc\uadf8 \ubc0f CSS\uc640 Javascript\ub97c \uc81c\uc678\ud55c \uc21c\uc218 \ud14d\uc2a4\ud2b8\ub97c \uc5bb\uc5b4\ub0b4\uace0 \uadf8 \uc548\uc5d0 \uc874\uc7ac\ud558\ub294 \ub2e8\uc5b4\ub97c \ucd94\ucd9c\ud558\uc5ec \uac01 \ub2e8\uc5b4\ub4e4\uc5d0 \ub300\ud574 \ucd9c\ud604\ube48\ub3c4\ub97c \uc0ac\uc804\ud615\ud0dc({'world': 2, 'hello': 1, 'python': 1})\ub85c \uc800\uc7a5\ud558\uc5ec \ucd9c\ub825\ud558\ub294 \uac83\uc774\uc5c8\ub2e4. \uc774\ubc88\uc5d0\ub294 Assignment 3\ub97c \ud655\uc7a5\ud558\uc5ec \ub2e4\uc74c\uacfc \uac19\uc740 \uc870\uac74\uc744 \ub9cc\uc871\ud558\ub3c4\ub85d \uad6c\ud604\ud558\uc2dc\uc624. \n",
      " - 1) \uac01 URL\ub85c \uc9c0\uc815\ub41c \uc6f9\ud398\uc774\uc9c0\uc758 HTML \uc18c\uc2a4\ub97c \ud30c\uc77c\ub85c \uc800\uc7a5\ud558\uc2dc\uc624. \u25e6URL\uc774 http://URL \uc774\ub77c\uba74 \ud30c\uc77c\uba85\uc740 URL.html \uc774\ub2e4. \n",
      " - \uc608: URL\uc774 http://www.koreatech.ac.kr \uc774\ub77c\uba74 \ud30c\uc77c\uba85\uc740 www.koreatech.ac.kr.html \uc774\ub2e4. \n",
      "\n",
      "- 2) \ub2e8\uc5b4\uc758 \ucd9c\ud604\ube48\ub3c4\uac00 \ub2f4\uae34 \uc0ac\uc804 \uac1d\uccb4\ub97c \uc704 HTML \uc18c\uc2a4 \ud30c\uc77c\uacfc \ub3d9\uc77c\ud55c \ud3f4\ub354\uc5d0 \ud30c\uc77c\ub85c \uc800\uc7a5\ud558\uc2dc\uc624.\n",
      " - \uad50\uc7ac 11-2 \ud53c\ud074\ub9c1 \ubc29\ubc95\uc744 \ud65c\uc6a9\ud558\uc2dc\uc624. \n",
      " - URL\uc774 http://URL \uc774\ub77c\uba74 \ud30c\uc77c\uba85\uc740 URL.words.frequency \uc774\ub2e4.\n",
      " - \uc608: URL\uc774 http://www.koreatech.ac.kr \uc774\ub77c\uba74 \ud30c\uc77c\uba85\uc740 www.koreatech.ac.kr.words.frequency \uc774\ub2e4.\n",
      "\n",
      " - 3) \ucd5c\uc18c 5\uac1c \uc774\uc0c1\uc758 \uc6f9 \uc0ac\uc774\ud2b8\uc5d0 \ub300\ud55c HTML \uc18c\uc2a4 \ud30c\uc77c\uacfc \ub2e8\uc5b4 \ucd9c\ud604\ube48\ub3c4 \ud30c\uc77c\uc744 \uc800\uc7a5\ud558\uc2dc\uc624. \n",
      " - \uc989, \ucd1d 10\uac1c\uc758 \ud30c\uc77c\uc744 \ub3d9\uc77c\ud55c \ud3f4\ub354\uc5d0 \uc0dd\uc131\ud558\uc2dc\uc624."
     ]
    },
    {
     "cell_type": "code",
     "collapsed": false,
     "input": [
      "import urllib\n",
      "import string\n",
      "import pickle\n",
      "\n",
      "source = urllib.urlopen(\"https://www.koreatech.ac.kr/\").read()\n",
      "f = open(\"www.koreatech.ac.kr.html\", 'w')\n",
      "f.write(source)\n",
      "f = open(\"www.koreatech.ac.kr.words.frequency\", 'w')\n",
      "len_source = len(source)\n",
      "source_new = None\n",
      "i = 0\n",
      "while (i < len_source):\n",
      "\tfound = False\n",
      "\tif (found != True and source[i] == \"<\" and source[i+1 : i+7].lower() == \"script\"):\n",
      "\t\tfound = True;\n",
      "\t\tj = i + 7;\n",
      "\t\twhile (True):\n",
      "\t\t\tif (source[j] == \"<\" and source[j+1] == \"/\" and source[j+2 : j+8].lower() == \"script\"):\n",
      "\t\t\t\t#print \"found - script\"\n",
      "\t\t\t\tsource = source[:i] + ' ' + source[j+9:]\n",
      "\t\t\t\tbreak\n",
      "\t\t\tj = j + 1\n",
      "\t\t\tif (j > len_source):\n",
      "\t\t\t\tbreak\n",
      "\t\tlen_source = len(source)\n",
      "\ti = i + 1\n",
      "\n",
      "len_source = len(source)\n",
      "\n",
      "i = 0\n",
      "while (i < len_source):\n",
      "\tfound = False\n",
      "\tif (found != True and source[i] == \"<\" and source[i+1 : i+6].lower() == \"style\"):\n",
      "\t\tfound = True;\n",
      "\t\tj = i + 6;\n",
      "\t\twhile (True):\n",
      "\t\t\tif (source[j] == \"<\" and source[j+1] == \"/\" and source[j+2 : j+7].lower() == \"style\"):\n",
      "\t\t\t\t#print \"found - style\"\n",
      "\t\t\t\tsource = source[:i] + ' ' + source[j+8:]\n",
      "\t\t\t\tbreak\n",
      "\t\t\tj = j + 1\n",
      "\t\t\tif (j > len_source):\n",
      "\t\t\t\tbreak\n",
      "\t\tlen_source = len(source)\n",
      "\ti = i + 1\n",
      "\n",
      "len_source = len(source)\n",
      "\n",
      "i = 0\n",
      "while (i < len_source):\n",
      "\tfound = False\n",
      "\tif (found != True and source[i] == \"<\"):\n",
      "\t\tfound = True;\n",
      "\t\tj = i + 1;\n",
      "\t\twhile (True):\n",
      "\t\t\tif (source[j] == \">\"):\n",
      "\t\t\t\t#print \"found - HTML tag\"\n",
      "\t\t\t\tsource = source[:i] + ' ' + source[j+1:]\n",
      "\t\t\t\tbreak\n",
      "\t\t\tj = j + 1\n",
      "\t\t\tif (j > len_source):\n",
      "\t\t\t\tbreak\n",
      "\t\tlen_source = len(source)\n",
      "\ti = i + 1\n",
      "\t\n",
      "len_source = len(source)\n",
      "\n",
      "\n",
      "i = 0\n",
      "while(i < len_source):\n",
      "    for j in string.punctuation :\n",
      "        if (j==source[i]):   \n",
      "            source = source[:i] + ' ' + source[i+1:]\n",
      "            break\n",
      "    i = i + 1\n",
      "\n",
      "words = source.split()\n",
      "\n",
      "d = {}\n",
      "\n",
      "for word in words:\n",
      "    if(word in d):\n",
      "        d[word] = d[word] + 1\n",
      "    else :\n",
      "        d[word] = 1\n",
      "\n",
      "pickle.dump(d,f)\n",
      "\n",
      "source = urllib.urlopen(\"http://cse.kut.ac.kr\").read()\n",
      "f = open(\"cse.kut.ac.kr.html\", 'w')\n",
      "f.write(source)\n",
      "f = open(\"cse.kut.ac.kr.words.frequency\", 'w')\n",
      "len_source = len(source)\n",
      "source_new = None\n",
      "i = 0\n",
      "while (i < len_source):\n",
      "\tfound = False\n",
      "\tif (found != True and source[i] == \"<\" and source[i+1 : i+7].lower() == \"script\"):\n",
      "\t\tfound = True;\n",
      "\t\tj = i + 7;\n",
      "\t\twhile (True):\n",
      "\t\t\tif (source[j] == \"<\" and source[j+1] == \"/\" and source[j+2 : j+8].lower() == \"script\"):\n",
      "\t\t\t\t#print \"found - script\"\n",
      "\t\t\t\tsource = source[:i] + ' ' + source[j+9:]\n",
      "\t\t\t\tbreak\n",
      "\t\t\tj = j + 1\n",
      "\t\t\tif (j > len_source):\n",
      "\t\t\t\tbreak\n",
      "\t\tlen_source = len(source)\n",
      "\ti = i + 1\n",
      "\n",
      "len_source = len(source)\n",
      "\n",
      "i = 0\n",
      "while (i < len_source):\n",
      "\tfound = False\n",
      "\tif (found != True and source[i] == \"<\" and source[i+1 : i+6].lower() == \"style\"):\n",
      "\t\tfound = True;\n",
      "\t\tj = i + 6;\n",
      "\t\twhile (True):\n",
      "\t\t\tif (source[j] == \"<\" and source[j+1] == \"/\" and source[j+2 : j+7].lower() == \"style\"):\n",
      "\t\t\t\t#print \"found - style\"\n",
      "\t\t\t\tsource = source[:i] + ' ' + source[j+8:]\n",
      "\t\t\t\tbreak\n",
      "\t\t\tj = j + 1\n",
      "\t\t\tif (j > len_source):\n",
      "\t\t\t\tbreak\n",
      "\t\tlen_source = len(source)\n",
      "\ti = i + 1\n",
      "\n",
      "len_source = len(source)\n",
      "\n",
      "i = 0\n",
      "while (i < len_source):\n",
      "\tfound = False\n",
      "\tif (found != True and source[i] == \"<\"):\n",
      "\t\tfound = True;\n",
      "\t\tj = i + 1;\n",
      "\t\twhile (True):\n",
      "\t\t\tif (source[j] == \">\"):\n",
      "\t\t\t\t#print \"found - HTML tag\"\n",
      "\t\t\t\tsource = source[:i] + ' ' + source[j+1:]\n",
      "\t\t\t\tbreak\n",
      "\t\t\tj = j + 1\n",
      "\t\t\tif (j > len_source):\n",
      "\t\t\t\tbreak\n",
      "\t\tlen_source = len(source)\n",
      "\ti = i + 1\n",
      "\t\n",
      "len_source = len(source)\n",
      "\n",
      "\n",
      "i = 0\n",
      "while(i < len_source):\n",
      "    for j in string.punctuation :\n",
      "        if (j==source[i]):   \n",
      "            source = source[:i] + ' ' + source[i+1:]\n",
      "            break\n",
      "    i = i + 1\n",
      "\n",
      "words = source.split()\n",
      "\n",
      "d = {}\n",
      "\n",
      "for word in words:\n",
      "    if(word in d):\n",
      "        d[word] = d[word] + 1\n",
      "    else :\n",
      "        d[word] = 1\n",
      "\n",
      "pickle.dump(d,f)\n",
      "\n",
      "source = urllib.urlopen(\"http://www.naver.com\").read()\n",
      "f = open(\"www.naver.com.html\", 'w')\n",
      "f.write(source)\n",
      "f = open(\"www.naver.com.words.frequency\", 'w')\n",
      "len_source = len(source)\n",
      "source_new = None\n",
      "i = 0\n",
      "while (i < len_source):\n",
      "\tfound = False\n",
      "\tif (found != True and source[i] == \"<\" and source[i+1 : i+7].lower() == \"script\"):\n",
      "\t\tfound = True;\n",
      "\t\tj = i + 7;\n",
      "\t\twhile (True):\n",
      "\t\t\tif (source[j] == \"<\" and source[j+1] == \"/\" and source[j+2 : j+8].lower() == \"script\"):\n",
      "\t\t\t\t#print \"found - script\"\n",
      "\t\t\t\tsource = source[:i] + ' ' + source[j+9:]\n",
      "\t\t\t\tbreak\n",
      "\t\t\tj = j + 1\n",
      "\t\t\tif (j > len_source):\n",
      "\t\t\t\tbreak\n",
      "\t\tlen_source = len(source)\n",
      "\ti = i + 1\n",
      "\n",
      "len_source = len(source)\n",
      "\n",
      "\n",
      "i = 0\n",
      "while (i < len_source):\n",
      "\tfound = False\n",
      "\tif (found != True and source[i] == \"<\" and source[i+1 : i+6].lower() == \"style\"):\n",
      "\t\tfound = True;\n",
      "\t\tj = i + 6;\n",
      "\t\twhile (True):\n",
      "\t\t\tif (source[j] == \"<\" and source[j+1] == \"/\" and source[j+2 : j+7].lower() == \"style\"):\n",
      "\t\t\t\t#print \"found - style\"\n",
      "\t\t\t\tsource = source[:i] + ' ' + source[j+8:]\n",
      "\t\t\t\tbreak\n",
      "\t\t\tj = j + 1\n",
      "\t\t\tif (j > len_source):\n",
      "\t\t\t\tbreak\n",
      "\t\tlen_source = len(source)\n",
      "\ti = i + 1\n",
      "\n",
      "len_source = len(source)\n",
      "\n",
      "i = 0\n",
      "while (i < len_source):\n",
      "\tfound = False\n",
      "\tif (found != True and source[i] == \"<\"):\n",
      "\t\tfound = True;\n",
      "\t\tj = i + 1;\n",
      "\t\twhile (True):\n",
      "\t\t\tif (source[j] == \">\"):\n",
      "\t\t\t\t#print \"found - HTML tag\"\n",
      "\t\t\t\tsource = source[:i] + ' ' + source[j+1:]\n",
      "\t\t\t\tbreak\n",
      "\t\t\tj = j + 1\n",
      "\t\t\tif (j > len_source):\n",
      "\t\t\t\tbreak\n",
      "\t\tlen_source = len(source)\n",
      "\ti = i + 1\n",
      "\t\n",
      "len_source = len(source)\n",
      "\n",
      "\n",
      "i = 0\n",
      "while(i < len_source):\n",
      "    for j in string.punctuation :\n",
      "        if (j==source[i]):   \n",
      "            source = source[:i] + ' ' + source[i+1:]\n",
      "            break\n",
      "    i = i + 1\n",
      "\n",
      "words = source.split()\n",
      "\n",
      "d = {}\n",
      "\n",
      "for word in words:\n",
      "    if(word in d):\n",
      "        d[word] = d[word] +1\n",
      "    else :\n",
      "        d[word] = 1\n",
      "\n",
      "pickle.dump(d,f)\n",
      "\n",
      "source = urllib.urlopen(\"http://www.daum.net/\").read()\n",
      "f = open(\"www.daum.net.html\", 'w')\n",
      "f.write(source)\n",
      "f = open(\"www.daum.net.words.frequency\", 'w')\n",
      "len_source = len(source)\n",
      "source_new = None\n",
      "i = 0\n",
      "while (i < len_source):\n",
      "\tfound = False\n",
      "\tif (found != True and source[i] == \"<\" and source[i+1 : i+7].lower() == \"script\"):\n",
      "\t\tfound = True;\n",
      "\t\tj = i + 7;\n",
      "\t\twhile (True):\n",
      "\t\t\tif (source[j] == \"<\" and source[j+1] == \"/\" and source[j+2 : j+8].lower() == \"script\"):\n",
      "\t\t\t\t#print \"found - script\"\n",
      "\t\t\t\tsource = source[:i] + ' ' + source[j+9:]\n",
      "\t\t\t\tbreak\n",
      "\t\t\tj = j + 1\n",
      "\t\t\tif (j > len_source):\n",
      "\t\t\t\tbreak\n",
      "\t\tlen_source = len(source)\n",
      "\ti = i + 1\n",
      "\n",
      "len_source = len(source)\n",
      "\n",
      "i = 0\n",
      "while (i < len_source):\n",
      "\tfound = False\n",
      "\tif (found != True and source[i] == \"<\" and source[i+1 : i+6].lower() == \"style\"):\n",
      "\t\tfound = True;\n",
      "\t\tj = i + 6;\n",
      "\t\twhile (True):\n",
      "\t\t\tif (source[j] == \"<\" and source[j+1] == \"/\" and source[j+2 : j+7].lower() == \"style\"):\n",
      "\t\t\t\t#print \"found - style\"\n",
      "\t\t\t\tsource = source[:i] + ' ' + source[j+8:]\n",
      "\t\t\t\tbreak\n",
      "\t\t\tj = j + 1\n",
      "\t\t\tif (j > len_source):\n",
      "\t\t\t\tbreak\n",
      "\t\tlen_source = len(source)\n",
      "\ti = i + 1\n",
      "\n",
      "len_source = len(source)\n",
      "\n",
      "i = 0\n",
      "while (i < len_source):\n",
      "\tfound = False\n",
      "\tif (found != True and source[i] == \"<\"):\n",
      "\t\tfound = True;\n",
      "\t\tj = i + 1;\n",
      "\t\twhile (True):\n",
      "\t\t\tif (source[j] == \">\"):\n",
      "\t\t\t\t#print \"found - HTML tag\"\n",
      "\t\t\t\tsource = source[:i] + ' ' + source[j+1:]\n",
      "\t\t\t\tbreak\n",
      "\t\t\tj = j + 1\n",
      "\t\t\tif (j > len_source):\n",
      "\t\t\t\tbreak\n",
      "\t\tlen_source = len(source)\n",
      "\ti = i + 1\n",
      "\t\n",
      "len_source = len(source)\n",
      "\n",
      "\n",
      "i = 0\n",
      "while(i < len_source):\n",
      "    for j in string.punctuation :\n",
      "        if (j==source[i]):   \n",
      "            source = source[:i] + ' ' + source[i+1:]\n",
      "            break\n",
      "    i = i + 1\n",
      "\n",
      "words = source.split()\n",
      "\n",
      "d = {}\n",
      "\n",
      "for word in words:\n",
      "    if(word in d):\n",
      "        d[word] = d[word] +1\n",
      "    else :\n",
      "        d[word] = 1\n",
      "\n",
      "pickle.dump(d,f)\n",
      "\n",
      "source = urllib.urlopen(\"https://www.facebook.com/\").read()\n",
      "f = open(\"www.facebook.com.html\", 'w')\n",
      "f.write(source)\n",
      "f = open(\"www.facebook.com.words.frequency\", 'w')\n",
      "len_source = len(source)\n",
      "source_new = None\n",
      "i = 0\n",
      "while (i < len_source):\n",
      "\tfound = False\n",
      "\tif (found != True and source[i] == \"<\" and source[i+1 : i+7].lower() == \"script\"):\n",
      "\t\tfound = True;\n",
      "\t\tj = i + 7;\n",
      "\t\twhile (True):\n",
      "\t\t\tif (source[j] == \"<\" and source[j+1] == \"/\" and source[j+2 : j+8].lower() == \"script\"):\n",
      "\t\t\t\t#print \"found - script\"\n",
      "\t\t\t\tsource = source[:i] + ' ' + source[j+9:]\n",
      "\t\t\t\tbreak\n",
      "\t\t\tj = j + 1\n",
      "\t\t\tif (j > len_source):\n",
      "\t\t\t\tbreak\n",
      "\t\tlen_source = len(source)\n",
      "\ti = i + 1\n",
      "\n",
      "len_source = len(source)\n",
      "\n",
      "i = 0\n",
      "while (i < len_source):\n",
      "\tfound = False\n",
      "\tif (found != True and source[i] == \"<\" and source[i+1 : i+6].lower() == \"style\"):\n",
      "\t\tfound = True;\n",
      "\t\tj = i + 6;\n",
      "\t\twhile (True):\n",
      "\t\t\tif (source[j] == \"<\" and source[j+1] == \"/\" and source[j+2 : j+7].lower() == \"style\"):\n",
      "\t\t\t\t#print \"found - style\"\n",
      "\t\t\t\tsource = source[:i] + ' ' + source[j+8:]\n",
      "\t\t\t\tbreak\n",
      "\t\t\tj = j + 1\n",
      "\t\t\tif (j > len_source):\n",
      "\t\t\t\tbreak\n",
      "\t\tlen_source = len(source)\n",
      "\ti = i + 1\n",
      "\n",
      "len_source = len(source)\n",
      "\n",
      "i = 0\n",
      "while (i < len_source):\n",
      "\tfound = False\n",
      "\tif (found != True and source[i] == \"<\"):\n",
      "\t\tfound = True;\n",
      "\t\tj = i + 1;\n",
      "\t\twhile (True):\n",
      "\t\t\tif (source[j] == \">\"):\n",
      "\t\t\t\t#print \"found - HTML tag\"\n",
      "\t\t\t\tsource = source[:i] + ' ' + source[j+1:]\n",
      "\t\t\t\tbreak\n",
      "\t\t\tj = j + 1\n",
      "\t\t\tif (j > len_source):\n",
      "\t\t\t\tbreak\n",
      "\t\tlen_source = len(source)\n",
      "\ti = i + 1\n",
      "\t\n",
      "len_source = len(source)\n",
      "\n",
      "\n",
      "i = 0\n",
      "while(i < len_source):\n",
      "    for j in string.punctuation :\n",
      "        if (j==source[i]):   \n",
      "            source = source[:i] + ' ' + source[i+1:]\n",
      "            break\n",
      "    i = i + 1\n",
      "\n",
      "words = source.split()\n",
      "\n",
      "d = {}\n",
      "\n",
      "for word in words:\n",
      "    if(word in d):\n",
      "        d[word] = d[word] +1\n",
      "    else :\n",
      "        d[word] = 1\n",
      "\n",
      "pickle.dump(d,f)\n",
      "\n",
      "f.close()"
     ],
     "language": "python",
     "metadata": {},
     "outputs": [],
     "prompt_number": 3
    },
    {
     "cell_type": "markdown",
     "metadata": {},
     "source": [
      "pickle.dump(d,f) \uc744 \uc774\uc6a9\ud574\uc11c \uc0ac\uc804\uac1d\uccb4\ub97c \ud30c\uc77c\uc5d0 \uc4f4\ub2e4."
     ]
    },
    {
     "cell_type": "markdown",
     "metadata": {},
     "source": [
      "- [9\ubc88 \ubb38\uc81c] \uc704 \ubb38\uc81c\uc5d0\uc11c \uc800\uc7a5\ud55c \ubaa8\ub4e0 words.frequency \ud30c\uc77c\ub4e4\uc744 \ub85c\ub4dc \ud558\uc5ec \ubcf8\uc778\uc774 \uc800\uc7a5\ud558\uc5ec \ubd84\uc11d\ud55c \uc0ac\uc774\ud2b8\ub4e4\uc5d0\uc11c \uac00\uc7a5 \ub9ce\uc774 \ucd9c\ud604\ud55c \ub2e8\uc5b4\ub97c \ubf51\uc544 \uc81c\uc2dc\ud558\uc2dc\uc624.\n",
      " - 8\ubc88 \ubb38\uc81c\uc640\ub294 \ub2e4\ub978 \ubcc4\ub3c4\uc758 \ud504\ub85c\uadf8\ub7a8\uc73c\ub85c \uc791\uc131\ud558\uc2dc\uc624.\n"
     ]
    },
    {
     "cell_type": "code",
     "collapsed": false,
     "input": [
      "import pickle\n",
      "words = {}\n",
      "\n",
      "f = open(\"www.koreatech.ac.kr.words.frequency\")\n",
      "d = pickle.load(f)\n",
      "f.close()\n",
      "for x in d.keys():\n",
      "    if(x in words):\n",
      "        words[x] =  words[x] + 1\n",
      "    else :\n",
      "        words[x] = 1\n",
      "      \n",
      "f = open(\"cse.kut.ac.kr.words.frequency\")\n",
      "d = pickle.load(f)\n",
      "f.close()\n",
      "for x in d.keys():\n",
      "    if(x in words):\n",
      "        words[x] = words[x] +1\n",
      "    else :\n",
      "        words[x] = 1\n",
      "        \n",
      "f = open(\"www.naver.com.words.frequency\")\n",
      "d = pickle.load(f)\n",
      "f.close()\n",
      "for x in d.keys():\n",
      "    if(x in words):\n",
      "        words[x] = words[x] +1\n",
      "    else :\n",
      "        words[x] = 1\n",
      "        \n",
      "f = open(\"www.daum.net.words.frequency\")\n",
      "d = pickle.load(f)\n",
      "f.close()\n",
      "for x in d.keys():\n",
      "    if(x in words):\n",
      "        words[x] = words[x] +1\n",
      "    else :\n",
      "        words[x] = 1\n",
      "        \n",
      "\n",
      "f = open(\"www.facebook.com.words.frequency\")\n",
      "d = pickle.load(f)\n",
      "f.close()\n",
      "for x in d.keys():\n",
      "    if(x in words):\n",
      "        words[x] = words[x] +1\n",
      "    else :\n",
      "        words[x] = 1\n",
      "\n",
      "number = 0        \n",
      "for value in d.values():\n",
      "    if(value > number) : number  = value \n",
      "\n",
      "for key in d.keys() :\n",
      "    if(d[key] == number) :\n",
      "        print key , number"
     ],
     "language": "python",
     "metadata": {},
     "outputs": [
      {
       "output_type": "stream",
       "stream": "stdout",
       "text": [
        "\uc218 306\n"
       ]
      }
     ],
     "prompt_number": 4
    },
    {
     "cell_type": "markdown",
     "metadata": {},
     "source": [
      "\ubaa8\ub4e0 words.frequency\ub97c \uc0ac\uc804\uc5d0 \uc800\uc7a5\ud55c \ud6c4 \uac00\uc7a5 \ud070 value\uac12\uc744 \ucc3e\ub294\ub2e4. \uadf8\ub9ac\uace0 value\uac00 \uac00\uc7a5 \ud070 \uac12\uc758 key\ub97c \ubaa8\ub450 \ucd9c\ub825\ud55c\ub2e4."
     ]
    },
    {
     "cell_type": "markdown",
     "metadata": {},
     "source": [
      "- \uac15\uc758\uac00 \uac70\uc758 \ub05d\ub098\uac00\ub294\ub370, \uac1c\uc778\uc801\uc73c\ub85c \uc218\uc5c5\uc5d0 \ub300\ud55c \uc9d1\uc911\ub3c4\uac00 \ub9ce\uc774 \ub5a8\uc5b4 \uc9c0\ub294 \uac83 \uac19\ub2e4.\n",
      "- \ucf54\ub4dc\ub97c \uc791\uc131\ud558\ub2e4\ubcf4\uba74 \uc624\ud788\ub824 C\ubcf4\ub2e4 \uc81c\uc57d\uc774 \ud06c\ub2e4\uace0 \ub290\ub084 \ub54c\uac00 \uc788\ub2e4.\n",
      "- \ud30c\uc77c \uc785\ucd9c\ub825 \ubd80\ubd84\uc740 C\ud504\ub85c\uadf8\ub798\ubc0d\uacfc \uc720\uc0ac \ud558\ub2e4."
     ]
    }
   ],
   "metadata": {}
  }
 ]
}