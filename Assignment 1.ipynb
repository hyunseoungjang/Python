{
 "metadata": {
  "name": "",
  "signature": "sha256:d674da9a1cee254bd7f5f586f5ec02b8e4715cbc4523a725192e0a4437d02fcb"
 },
 "nbformat": 3,
 "nbformat_minor": 0,
 "worksheets": [
  {
   "cells": [
    {
     "cell_type": "markdown",
     "metadata": {},
     "source": [
      "2011136103 \uc7a5\ud604\uc2b9"
     ]
    },
    {
     "cell_type": "markdown",
     "metadata": {},
     "source": [
      "\u2022a=\"Hello Python\" \ubb38\uc790\uc5f4\uc744 Slicing\uacfc \uc5f0\uacb0 \uc5f0\uc0b0\uc790 (+)\ub97c \uc0ac\uc6a9\ud558\uc5ec \"Python Hello\"\ub85c \ubcc0\uacbd\ud558\uc2dc\uc624.\u25fe[\uc8fc\uc758] a \ubcc0\uc218 \uc790\uccb4\uc5d0 \"Python Hello\" \ubb38\uc790\uc5f4\uc774 \uc800\uc7a5\ub418\uc5b4\uc57c \ud568"
     ]
    },
    {
     "cell_type": "code",
     "collapsed": false,
     "input": [
      "a=\"Hello Python\"\n",
      "print a\n",
      "a=a[6:] +' '+ a[0:5]\n",
      "print a"
     ],
     "language": "python",
     "metadata": {},
     "outputs": [
      {
       "output_type": "stream",
       "stream": "stdout",
       "text": [
        "Hello Python\n",
        "Python Hello\n"
       ]
      }
     ],
     "prompt_number": 4
    },
    {
     "cell_type": "markdown",
     "metadata": {},
     "source": [
      "\u2022b=\"Hello Python World\" \ubb38\uc790\uc5f4\uc744 Slicing\uacfc \uc5f0\uacb0 \uc5f0\uc0b0\uc790 (+)\ub97c \uc0ac\uc6a9\ud558\uc5ec \"World Python Hello\"\ub85c \ubcc0\uacbd\ud558\uc2dc\uc624.\u25fe[\uc8fc\uc758] b \ubcc0\uc218 \uc790\uccb4\uc5d0 \"Python Hello\" \ubb38\uc790\uc5f4\uc774 \uc800\uc7a5\ub418\uc5b4\uc57c \ud568"
     ]
    },
    {
     "cell_type": "code",
     "collapsed": false,
     "input": [
      "b=\"Hello Python World\"\n",
      "print b\n",
      "b=b[13:] + ' ' + b[6:12] + ' ' + b[:5]\n",
      "print b"
     ],
     "language": "python",
     "metadata": {},
     "outputs": [
      {
       "output_type": "stream",
       "stream": "stdout",
       "text": [
        "Hello Python World\n",
        "World Python Hello\n"
       ]
      }
     ],
     "prompt_number": 5
    },
    {
     "cell_type": "markdown",
     "metadata": {},
     "source": [
      "\u2022c=\"Hello\"\ub97c \"olleH\"\ub85c \ubcc0\uacbd\ud558\uc2dc\uc624"
     ]
    },
    {
     "cell_type": "code",
     "collapsed": false,
     "input": [
      "c=\"Hello\"\n",
      "print c\n",
      "c=c[::-1]\n",
      "print c"
     ],
     "language": "python",
     "metadata": {},
     "outputs": [
      {
       "output_type": "stream",
       "stream": "stdout",
       "text": [
        "Hello\n",
        "olleH\n"
       ]
      }
     ],
     "prompt_number": 6
    },
    {
     "cell_type": "markdown",
     "metadata": {},
     "source": [
      "\u2022s=\"python\"\uc5d0 \ub300\ud574 \ub2e4\uc74c \ubb38\uc81c\ub97c \ud480\uc5b4\ubcf4\uc2dc\uc624."
     ]
    },
    {
     "cell_type": "markdown",
     "metadata": {},
     "source": [
      "1.s[0], s[0][0], s[0][0][0]\uc740 \uac01\uac01 \uc5b4\ub5a4 \uac12\uc774 \ub098\uc624\ub294\uc9c0 \ud655\uc778\ud558\uace0 \uadf8 \uc774\uc720\ub97c \ub098\ub984\ub300\ub85c \uc124\uba85\ud574 \ubcf4\uc2dc\uc624."
     ]
    },
    {
     "cell_type": "code",
     "collapsed": false,
     "input": [
      "s=\"python\"\n",
      "print s[0]\n",
      "print s[0][0]\n",
      "print s[0][0][0]"
     ],
     "language": "python",
     "metadata": {},
     "outputs": []
    },
    {
     "cell_type": "markdown",
     "metadata": {},
     "source": [
      "\ubb38\uc790\uc5f4\uc740 \ubc30\uc5f4\ucc98\ub7fc \uc800\uc7a5\ub418\uace0 []\uc758 \uac1c\uc218\ub294 \ucc38\uc870\uc218\uc900\uc744 \ub098\ud0c0\ub0b8\ub2e4.\n",
      "[0]\uc740 \uc790\uae30\uc790\uc2e0\uc744 \ucc38\uc870\ud55c\ub2e4.\n",
      "s[0][1]\uc740 IndexError: string index out of range \uc624\ub958\ub97c \uac00\uc9c4\ub2e4."
     ]
    },
    {
     "cell_type": "markdown",
     "metadata": {},
     "source": [
      "2.s[-100], s[100]\uc740 \uac12\uc774 \ub098\uc624\ub294\uc9c0 \uc5d0\ub7ec\uac00 \ub098\uc624\ub294\uc9c0 \ud655\uc778\ud558\uace0 \uadf8 \uacb0\uacfc\uc5d0 \ub300\ud55c \uc774\uc720\ub97c \ub098\ub984\ub300\ub85c \uc124\uba85\ud574 \ubcf4\uc2dc\uc624."
     ]
    },
    {
     "cell_type": "code",
     "collapsed": false,
     "input": [
      "s=\"python\"\n",
      "s[-100]\n",
      "s[100]"
     ],
     "language": "python",
     "metadata": {},
     "outputs": [
      {
       "ename": "IndexError",
       "evalue": "string index out of range",
       "output_type": "pyerr",
       "traceback": [
        "\u001b[1;31m---------------------------------------------------------------------------\u001b[0m\n\u001b[1;31mIndexError\u001b[0m                                Traceback (most recent call last)",
        "\u001b[1;32m<ipython-input-7-fe0361edb461>\u001b[0m in \u001b[0;36m<module>\u001b[1;34m()\u001b[0m\n\u001b[0;32m      1\u001b[0m \u001b[0ms\u001b[0m\u001b[1;33m=\u001b[0m\u001b[1;34m\"python\"\u001b[0m\u001b[1;33m\u001b[0m\u001b[0m\n\u001b[1;32m----> 2\u001b[1;33m \u001b[0ms\u001b[0m\u001b[1;33m[\u001b[0m\u001b[1;33m-\u001b[0m\u001b[1;36m100\u001b[0m\u001b[1;33m]\u001b[0m\u001b[1;33m\u001b[0m\u001b[0m\n\u001b[0m\u001b[0;32m      3\u001b[0m \u001b[0ms\u001b[0m\u001b[1;33m[\u001b[0m\u001b[1;36m100\u001b[0m\u001b[1;33m]\u001b[0m\u001b[1;33m\u001b[0m\u001b[0m\n",
        "\u001b[1;31mIndexError\u001b[0m: string index out of range"
       ]
      }
     ],
     "prompt_number": 7
    },
    {
     "cell_type": "markdown",
     "metadata": {},
     "source": [
      "s[0]=p, s[1]=y, s[2]=t, s[3]=h, s[4]=o, s[5]=n\n",
      "s[100],s[-100] \uc740 \uc778\ub371\uc2a4 \ubc94\uc704\uac00 \uc544\ub2c8\ub2e4."
     ]
    },
    {
     "cell_type": "markdown",
     "metadata": {},
     "source": [
      "3.s[-100, 100]\uc740 \uac12\uc774 \ub098\uc624\ub294\uc9c0 \uc5d0\ub7ec\uac00 \ub098\uc624\ub294\uc9c0 \ud655\uc778\ud558\uace0 \uadf8 \uacb0\uacfc\uc5d0 \ub300\ud55c \uc774\uc720\ub97c \ub098\ub984\ub300\ub85c \uc124\uba85\ud574 \ubcf4\uc2dc\uc624."
     ]
    },
    {
     "cell_type": "code",
     "collapsed": false,
     "input": [
      "s=\"python\"\n",
      "s[-100,100]"
     ],
     "language": "python",
     "metadata": {},
     "outputs": [
      {
       "ename": "TypeError",
       "evalue": "string indices must be integers, not tuple",
       "output_type": "pyerr",
       "traceback": [
        "\u001b[1;31m---------------------------------------------------------------------------\u001b[0m\n\u001b[1;31mTypeError\u001b[0m                                 Traceback (most recent call last)",
        "\u001b[1;32m<ipython-input-8-2b19a7f1d0a3>\u001b[0m in \u001b[0;36m<module>\u001b[1;34m()\u001b[0m\n\u001b[0;32m      1\u001b[0m \u001b[0ms\u001b[0m\u001b[1;33m=\u001b[0m\u001b[1;34m\"python\"\u001b[0m\u001b[1;33m\u001b[0m\u001b[0m\n\u001b[1;32m----> 2\u001b[1;33m \u001b[0ms\u001b[0m\u001b[1;33m[\u001b[0m\u001b[1;33m-\u001b[0m\u001b[1;36m100\u001b[0m\u001b[1;33m,\u001b[0m\u001b[1;36m100\u001b[0m\u001b[1;33m]\u001b[0m\u001b[1;33m\u001b[0m\u001b[0m\n\u001b[0m",
        "\u001b[1;31mTypeError\u001b[0m: string indices must be integers, not tuple"
       ]
      }
     ],
     "prompt_number": 8
    },
    {
     "cell_type": "markdown",
     "metadata": {},
     "source": [
      "\ubb38\uc790\uc5f4\uc758 \uc778\ub371\uc2a4\ub4e4\uc740 \uc815\uc218\ud615\uc774\uc5b4\uc57c\ud55c\ub2e4."
     ]
    },
    {
     "cell_type": "markdown",
     "metadata": {},
     "source": [
      "4.s[1:-1]\uc758 \uacb0\uacfc\ub97c \ud655\uc778\ud558\uace0 \uadf8 \uacb0\uacfc\uc5d0 \ub300\ud55c \uc774\uc720\ub97c \uc815\ud655\ud558\uac8c \uc124\uba85\ud558\uc2dc\uc624."
     ]
    },
    {
     "cell_type": "code",
     "collapsed": false,
     "input": [
      "s=\"python\"\n",
      "s[1:-1]"
     ],
     "language": "python",
     "metadata": {},
     "outputs": [
      {
       "metadata": {},
       "output_type": "pyout",
       "prompt_number": 9,
       "text": [
        "'ytho'"
       ]
      }
     ],
     "prompt_number": 9
    },
    {
     "cell_type": "markdown",
     "metadata": {},
     "source": [
      "\uae30\ubcf8\ud615\uc2dd: [start(included) : stop(excluded) : step]\n",
      "y\ub85c \ubd80\ud130 \uc2dc\uc791\ud574\uc11c n\uae4c\uc9c0 (n\uc740 \uc81c\uc678)"
     ]
    },
    {
     "cell_type": "markdown",
     "metadata": {},
     "source": [
      "5.s[3:-3]\uc758 \uacb0\uacfc\ub97c \ud655\uc778\ud558\uace0 \uadf8 \uacb0\uacfc\uc5d0 \ub300\ud55c \uc774\uc720\ub97c \uc815\ud655\ud558\uac8c \uc124\uba85\ud558\uc2dc\uc624."
     ]
    },
    {
     "cell_type": "code",
     "collapsed": false,
     "input": [
      "s=\"python\"\n",
      "s[3:-3]"
     ],
     "language": "python",
     "metadata": {},
     "outputs": [
      {
       "metadata": {},
       "output_type": "pyout",
       "prompt_number": 10,
       "text": [
        "''"
       ]
      }
     ],
     "prompt_number": 10
    },
    {
     "cell_type": "markdown",
     "metadata": {},
     "source": [
      "h\ub85c \ubd80\ud130 \uc2dc\uc791\ud574\uc11c h\uae4c\uc9c0 (h\ub294 \uc81c\uc678)"
     ]
    },
    {
     "cell_type": "markdown",
     "metadata": {},
     "source": [
      "\u2022for\ubb38\uc744 \ud65c\uc6a9\ud558\uc5ec 1\ubd80\ud130 100\uc0ac\uc774\uc758 \ud640\uc218\ub97c \ucd9c\ub825\ud558\uc2dc\uc624."
     ]
    },
    {
     "cell_type": "code",
     "collapsed": false,
     "input": [
      "for x in range(1,101) :\n",
      "    if (x%2 ==1) :\n",
      "        print x"
     ],
     "language": "python",
     "metadata": {},
     "outputs": [
      {
       "output_type": "stream",
       "stream": "stdout",
       "text": [
        "1\n",
        "3\n",
        "5\n",
        "7\n",
        "9\n",
        "11\n",
        "13\n",
        "15\n",
        "17\n",
        "19\n",
        "21\n",
        "23\n",
        "25\n",
        "27\n",
        "29\n",
        "31\n",
        "33\n",
        "35\n",
        "37\n",
        "39\n",
        "41\n",
        "43\n",
        "45\n",
        "47\n",
        "49\n",
        "51\n",
        "53\n",
        "55\n",
        "57\n",
        "59\n",
        "61\n",
        "63\n",
        "65\n",
        "67\n",
        "69\n",
        "71\n",
        "73\n",
        "75\n",
        "77\n",
        "79\n",
        "81\n",
        "83\n",
        "85\n",
        "87\n",
        "89\n",
        "91\n",
        "93\n",
        "95\n",
        "97\n",
        "99\n"
       ]
      }
     ],
     "prompt_number": 42
    },
    {
     "cell_type": "markdown",
     "metadata": {},
     "source": [
      "\u2022while\ubb38\uc744 \ud65c\uc6a9\ud558\uc5ec 1\ubd80\ud130 100\uc0ac\uc774\uc758 \uc9dd\uc218\uc758 \ud569\uc744 \uacc4\uc0b0\ud558\uc5ec \ucd9c\ub825\ud558\uc2dc\uc624."
     ]
    },
    {
     "cell_type": "code",
     "collapsed": false,
     "input": [
      "sum=0\n",
      "x=1\n",
      "while x <101 :\n",
      "    if (x%2 == 0) :\n",
      "        sum = sum + x\n",
      "    x = x + 1\n",
      "print sum"
     ],
     "language": "python",
     "metadata": {},
     "outputs": [
      {
       "output_type": "stream",
       "stream": "stdout",
       "text": [
        "2550\n"
       ]
      }
     ],
     "prompt_number": 20
    },
    {
     "cell_type": "markdown",
     "metadata": {},
     "source": [
      "\u2022\uc678\ubd80\ub85c \ubd80\ud130 \uc815\uc218\ub97c \uc785\ub825\ubc1b\uc544\uc11c 1\ubd80\ud130 \uadf8 \uc0ac\uc774\uc5d0 \uc874\uc7ac\ud558\ub294 \uc18c\uc218 (Prime number)\ub97c \ucd9c\ub825\ud558\ub294 \ud30c\uc774\uc36c \ud504\ub85c\uadf8\ub7a8\uc744 \uc791\uc131\ud558\uc2dc\uc624."
     ]
    },
    {
     "cell_type": "code",
     "collapsed": false,
     "input": [
      "i = input('int :')\n",
      "s = []\n",
      "for x in range(i):\n",
      "    s.append(x+1)\n",
      "del s[0]\n",
      "s.append('end')\n",
      "while s[0]!='end':\n",
      "    x = 1\n",
      "    print s[0]\n",
      "    while s[x]!='end':\n",
      "        if(s[x]%s[0])==0:\n",
      "            del s[x]\n",
      "        else:\n",
      "            x = x+1\n",
      "    else :\n",
      "        del s[0]"
     ],
     "language": "python",
     "metadata": {},
     "outputs": [
      {
       "name": "stdout",
       "output_type": "stream",
       "stream": "stdout",
       "text": [
        "int :50\n"
       ]
      },
      {
       "output_type": "stream",
       "stream": "stdout",
       "text": [
        "2\n",
        "3\n",
        "5\n",
        "7\n",
        "11\n",
        "13\n",
        "17\n",
        "19\n",
        "23\n",
        "29\n",
        "31\n",
        "37\n",
        "41\n",
        "43\n",
        "47\n"
       ]
      }
     ],
     "prompt_number": 1
    },
    {
     "cell_type": "markdown",
     "metadata": {},
     "source": [
      "\uc18c\uc218\uad00\ub828 \ub2e4\ud050\uba58\ud130\ub9ac\uc5d0\uc11c \ubd24\ub358 \uc5d0\ub77c\ud1a0\uc2a4\ud14c\ub124\uc2a4\uc758 \uccb4\ub97c \uc774\uc6a9\ud588\ub2e4."
     ]
    },
    {
     "cell_type": "markdown",
     "metadata": {},
     "source": [
      "C\ub97c \ubc30\uc6b0\ub294 \uac83\uacfc \ub9ce\uc774 \ub2e4\ub974\uc9c0 \uc54a\uc544\uc11c \uc5b4\ub835\uc9c0 \uc54a\uac8c \ubc30\uc6b8 \uc218 \uc788\uc744 \uac83 \uac19\uc2b5\ub2c8\ub2e4.\n",
      "\uc624\ub7ab\ub9cc\uc5d0 \ucf54\ub4dc\ub97c \uc791\uc131\ud574\uc11c \uac04\ub2e8\ud55c \ud504\ub85c\uadf8\ub7a8\uc744 \ub9cc\ub4dc\ub294 \uac83\uc5d0\ub3c4 \ub9ce\uc740 \uc2dc\uac04\uc774 "
     ]
    }
   ],
   "metadata": {}
  }
 ]
}